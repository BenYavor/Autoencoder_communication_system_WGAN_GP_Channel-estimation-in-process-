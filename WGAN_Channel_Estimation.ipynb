{
  "nbformat": 4,
  "nbformat_minor": 0,
  "metadata": {
    "colab": {
      "name": "Copy of Compaire.ipynb",
      "provenance": [],
      "collapsed_sections": [],
      "include_colab_link": true
    },
    "kernelspec": {
      "name": "python3",
      "display_name": "Python 3"
    }
  },
  "cells": [
    {
      "cell_type": "markdown",
      "metadata": {
        "id": "view-in-github",
        "colab_type": "text"
      },
      "source": [
        "<a href=\"https://colab.research.google.com/github/BenYavor/WGAN_Channel_Estimation-in-process-/blob/master/WGAN_Channel_Estimation.ipynb\" target=\"_parent\"><img src=\"https://colab.research.google.com/assets/colab-badge.svg\" alt=\"Open In Colab\"/></a>"
      ]
    },
    {
      "cell_type": "code",
      "metadata": {
        "id": "Y3Mvn1V30ejH",
        "colab_type": "code",
        "outputId": "4349b42e-48b5-4d7c-8d4e-9b8dfa0bc752",
        "colab": {
          "base_uri": "https://localhost:8080/",
          "height": 644
        }
      },
      "source": [
        "!pip install tensorflow==2.0.0\n",
        "import numpy as np\n",
        "%matplotlib inline\n",
        "import matplotlib.pyplot as plt   \n",
        "import warnings\n",
        "with warnings.catch_warnings():\n",
        "    warnings.filterwarnings(\"ignore\",category=FutureWarning)\n",
        "    import tensorflow as tf\n",
        "import os\n",
        "tf.__version__\n",
        "from tensorflow import keras\n",
        "import time\n",
        "from __future__ import absolute_import, division, print_function, unicode_literals\n",
        "import pandas as pd\n",
        "import sys\n",
        "assert sys.version_info >= (3, 5)\n",
        "%matplotlib inline\n",
        "import matplotlib as mpl\n",
        "mpl.rc('axes', labelsize=14)\n",
        "mpl.rc('xtick', labelsize=12)\n",
        "mpl.rc('ytick', labelsize=12)\n",
        "import tensorflow as tf\n",
        "from tensorflow import keras\n",
        "from sklearn.preprocessing import OneHotEncoder\n",
        "import pandas as pd\n",
        "from scipy import special\n",
        "#from Clustering_Equalgrps.equal_groups import EqualGroupsKMeans\n",
        "from tensorflow.keras import layers\n",
        "np.random.seed(42)\n",
        "tf.random.set_seed(42)"
      ],
      "execution_count": 1,
      "outputs": [
        {
          "output_type": "stream",
          "text": [
            "Requirement already satisfied: tensorflow==2.0.0 in /usr/local/lib/python3.6/dist-packages (2.0.0)\n",
            "Requirement already satisfied: six>=1.10.0 in /usr/local/lib/python3.6/dist-packages (from tensorflow==2.0.0) (1.12.0)\n",
            "Requirement already satisfied: protobuf>=3.6.1 in /usr/local/lib/python3.6/dist-packages (from tensorflow==2.0.0) (3.10.0)\n",
            "Requirement already satisfied: wrapt>=1.11.1 in /usr/local/lib/python3.6/dist-packages (from tensorflow==2.0.0) (1.11.2)\n",
            "Requirement already satisfied: grpcio>=1.8.6 in /usr/local/lib/python3.6/dist-packages (from tensorflow==2.0.0) (1.15.0)\n",
            "Requirement already satisfied: termcolor>=1.1.0 in /usr/local/lib/python3.6/dist-packages (from tensorflow==2.0.0) (1.1.0)\n",
            "Requirement already satisfied: tensorboard<2.1.0,>=2.0.0 in /usr/local/lib/python3.6/dist-packages (from tensorflow==2.0.0) (2.0.1)\n",
            "Requirement already satisfied: absl-py>=0.7.0 in /usr/local/lib/python3.6/dist-packages (from tensorflow==2.0.0) (0.8.1)\n",
            "Requirement already satisfied: numpy<2.0,>=1.16.0 in /usr/local/lib/python3.6/dist-packages (from tensorflow==2.0.0) (1.17.3)\n",
            "Requirement already satisfied: tensorflow-estimator<2.1.0,>=2.0.0 in /usr/local/lib/python3.6/dist-packages (from tensorflow==2.0.0) (2.0.1)\n",
            "Requirement already satisfied: google-pasta>=0.1.6 in /usr/local/lib/python3.6/dist-packages (from tensorflow==2.0.0) (0.1.8)\n",
            "Requirement already satisfied: wheel>=0.26 in /usr/local/lib/python3.6/dist-packages (from tensorflow==2.0.0) (0.33.6)\n",
            "Requirement already satisfied: opt-einsum>=2.3.2 in /usr/local/lib/python3.6/dist-packages (from tensorflow==2.0.0) (3.1.0)\n",
            "Requirement already satisfied: gast==0.2.2 in /usr/local/lib/python3.6/dist-packages (from tensorflow==2.0.0) (0.2.2)\n",
            "Requirement already satisfied: astor>=0.6.0 in /usr/local/lib/python3.6/dist-packages (from tensorflow==2.0.0) (0.8.0)\n",
            "Requirement already satisfied: keras-preprocessing>=1.0.5 in /usr/local/lib/python3.6/dist-packages (from tensorflow==2.0.0) (1.1.0)\n",
            "Requirement already satisfied: keras-applications>=1.0.8 in /usr/local/lib/python3.6/dist-packages (from tensorflow==2.0.0) (1.0.8)\n",
            "Requirement already satisfied: setuptools in /usr/local/lib/python3.6/dist-packages (from protobuf>=3.6.1->tensorflow==2.0.0) (41.4.0)\n",
            "Requirement already satisfied: google-auth-oauthlib<0.5,>=0.4.1 in /usr/local/lib/python3.6/dist-packages (from tensorboard<2.1.0,>=2.0.0->tensorflow==2.0.0) (0.4.1)\n",
            "Requirement already satisfied: markdown>=2.6.8 in /usr/local/lib/python3.6/dist-packages (from tensorboard<2.1.0,>=2.0.0->tensorflow==2.0.0) (3.1.1)\n",
            "Requirement already satisfied: werkzeug>=0.11.15 in /usr/local/lib/python3.6/dist-packages (from tensorboard<2.1.0,>=2.0.0->tensorflow==2.0.0) (0.16.0)\n",
            "Requirement already satisfied: google-auth<2,>=1.6.3 in /usr/local/lib/python3.6/dist-packages (from tensorboard<2.1.0,>=2.0.0->tensorflow==2.0.0) (1.7.0)\n",
            "Requirement already satisfied: h5py in /usr/local/lib/python3.6/dist-packages (from keras-applications>=1.0.8->tensorflow==2.0.0) (2.8.0)\n",
            "Requirement already satisfied: requests-oauthlib>=0.7.0 in /usr/local/lib/python3.6/dist-packages (from google-auth-oauthlib<0.5,>=0.4.1->tensorboard<2.1.0,>=2.0.0->tensorflow==2.0.0) (1.3.0)\n",
            "Requirement already satisfied: cachetools<3.2,>=2.0.0 in /usr/local/lib/python3.6/dist-packages (from google-auth<2,>=1.6.3->tensorboard<2.1.0,>=2.0.0->tensorflow==2.0.0) (3.1.1)\n",
            "Requirement already satisfied: rsa<4.1,>=3.1.4 in /usr/local/lib/python3.6/dist-packages (from google-auth<2,>=1.6.3->tensorboard<2.1.0,>=2.0.0->tensorflow==2.0.0) (4.0)\n",
            "Requirement already satisfied: pyasn1-modules>=0.2.1 in /usr/local/lib/python3.6/dist-packages (from google-auth<2,>=1.6.3->tensorboard<2.1.0,>=2.0.0->tensorflow==2.0.0) (0.2.7)\n",
            "Requirement already satisfied: oauthlib>=3.0.0 in /usr/local/lib/python3.6/dist-packages (from requests-oauthlib>=0.7.0->google-auth-oauthlib<0.5,>=0.4.1->tensorboard<2.1.0,>=2.0.0->tensorflow==2.0.0) (3.1.0)\n",
            "Requirement already satisfied: requests>=2.0.0 in /usr/local/lib/python3.6/dist-packages (from requests-oauthlib>=0.7.0->google-auth-oauthlib<0.5,>=0.4.1->tensorboard<2.1.0,>=2.0.0->tensorflow==2.0.0) (2.21.0)\n",
            "Requirement already satisfied: pyasn1>=0.1.3 in /usr/local/lib/python3.6/dist-packages (from rsa<4.1,>=3.1.4->google-auth<2,>=1.6.3->tensorboard<2.1.0,>=2.0.0->tensorflow==2.0.0) (0.4.7)\n",
            "Requirement already satisfied: idna<2.9,>=2.5 in /usr/local/lib/python3.6/dist-packages (from requests>=2.0.0->requests-oauthlib>=0.7.0->google-auth-oauthlib<0.5,>=0.4.1->tensorboard<2.1.0,>=2.0.0->tensorflow==2.0.0) (2.8)\n",
            "Requirement already satisfied: certifi>=2017.4.17 in /usr/local/lib/python3.6/dist-packages (from requests>=2.0.0->requests-oauthlib>=0.7.0->google-auth-oauthlib<0.5,>=0.4.1->tensorboard<2.1.0,>=2.0.0->tensorflow==2.0.0) (2019.9.11)\n",
            "Requirement already satisfied: urllib3<1.25,>=1.21.1 in /usr/local/lib/python3.6/dist-packages (from requests>=2.0.0->requests-oauthlib>=0.7.0->google-auth-oauthlib<0.5,>=0.4.1->tensorboard<2.1.0,>=2.0.0->tensorflow==2.0.0) (1.24.3)\n",
            "Requirement already satisfied: chardet<3.1.0,>=3.0.2 in /usr/local/lib/python3.6/dist-packages (from requests>=2.0.0->requests-oauthlib>=0.7.0->google-auth-oauthlib<0.5,>=0.4.1->tensorboard<2.1.0,>=2.0.0->tensorflow==2.0.0) (3.0.4)\n"
          ],
          "name": "stdout"
        }
      ]
    },
    {
      "cell_type": "markdown",
      "metadata": {
        "id": "1wlZswcMF7Rt",
        "colab_type": "text"
      },
      "source": [
        "#### Vergleich\n",
        "Als erstes für feste $k$ und $n$, was sich ändert ist die Samplesize, Anzahl der Samples und SNR"
      ]
    },
    {
      "cell_type": "markdown",
      "metadata": {
        "id": "4qpY-gawAf-9",
        "colab_type": "text"
      },
      "source": [
        "###Systemparameter\n",
        "ACHTUNG: CHANNELANZAHL WURDE UNTERSCHIEDLICH VERWENDET \\\\\n",
        "$k$ - die Anzhal der bits \\\\\n",
        "$M$ - Anzahl der unterschiedlichen Nachrichten \\\\\n",
        "$n$ - channel uses\\\\\n",
        "$N$ - Länge des Rauschvektors"
      ]
    },
    {
      "cell_type": "code",
      "metadata": {
        "colab_type": "code",
        "id": "czeNNfpY1qc2",
        "outputId": "b7320df6-88e4-4476-8634-bda16698b627",
        "colab": {
          "base_uri": "https://localhost:8080/",
          "height": 35
        }
      },
      "source": [
        "k = 4      # Number of information bits per message, i.e., M=2**k\n",
        "M = 2**k\n",
        "n = 2    # Number of real channel uses per message\n",
        "#k = int(np.log2(M))\n",
        "#n = 2\n",
        "print(M)\n",
        "\n",
        "batch_size = 100\n",
        "\n",
        "SNR = 7\n"
      ],
      "execution_count": 2,
      "outputs": [
        {
          "output_type": "stream",
          "text": [
            "16\n"
          ],
          "name": "stdout"
        }
      ]
    },
    {
      "cell_type": "markdown",
      "metadata": {
        "id": "BA4TqJBOXXIg",
        "colab_type": "text"
      },
      "source": [
        "## Training Parameter"
      ]
    },
    {
      "cell_type": "markdown",
      "metadata": {
        "id": "tb-DiBwSN255",
        "colab_type": "text"
      },
      "source": [
        "### Different Layers"
      ]
    },
    {
      "cell_type": "code",
      "metadata": {
        "id": "hFMMLrY0LthL",
        "colab_type": "code",
        "colab": {}
      },
      "source": [
        "randN_initial = keras.initializers.RandomNormal(mean=0.0, stddev=0.05, seed=None)\n",
        "\n",
        "EncIn = tf.keras.layers.Input(shape=(M,))#, dtype= tf.int32)\n",
        "e1 = tf.keras.layers.Dense(2*n, activation=None)\n",
        "e2 = tf.keras.layers.Lambda(lambda x:tf.reshape(x, shape=[-1,int(n/2),2]))\n",
        "EncOut = tf.keras.layers.Lambda(lambda x: x/tf.sqrt(2*tf.reduce_mean(tf.square(x))))\n",
        "GenIn = tf.keras.layers.Lambda(lambda x:tf.reshape(x,(tf.shape(x)[0],-1)))\n",
        "# = tf.keras.layers.Lambda(generator)\n",
        "DecIn = tf.keras.layers.Lambda(lambda x:tf.reshape(x, shape=[-1,int(n/2),2]))\n",
        "d1 = tf.keras.layers.Lambda(lambda x:tf.reshape(x, shape=[-1,n]))\n",
        "d2 = tf.keras.layers.Dense(M, activation='relu')\n",
        "DecOut = tf.keras.layers.Dense(M, activation='softmax')\n",
        "\n",
        "\n",
        "#noise_std = EbNo_to_noise(TRAINING_SNR)\n",
        "# custom functions / layers without weights\n",
        "norm_layer = keras.layers.Lambda(lambda x: tf.divide(x,tf.sqrt(2*tf.reduce_mean(tf.square(x)))))\n",
        "shape_layer = keras.layers.Lambda(lambda x: tf.reshape(x, shape=[-1,2,n]))\n",
        "shape_layer2 = keras.layers.Lambda(lambda x: tf.reshape(x, shape=[-1,n]))\n",
        "channel_layer = keras.layers.Lambda(lambda x: x + tf.random.normal(tf.shape(x), mean=0.0, stddev=noise_std))"
      ],
      "execution_count": 0,
      "outputs": []
    },
    {
      "cell_type": "markdown",
      "metadata": {
        "id": "7J96hJhKO9VJ",
        "colab_type": "text"
      },
      "source": [
        "### Help functions"
      ]
    },
    {
      "cell_type": "code",
      "metadata": {
        "id": "uV7pjryDv4M4",
        "colab_type": "code",
        "outputId": "5b3e50f8-4935-4ace-afff-cdd847be97f5",
        "colab": {
          "base_uri": "https://localhost:8080/",
          "height": 53
        }
      },
      "source": [
        "def EbNo2Sigma(ebnodb):\n",
        "    '''Convert Eb/No in dB to noise standard deviation'''\n",
        "    ebno = 10**(ebnodb/10)\n",
        "    return 1/np.sqrt(2*(2*k/n)*ebno)\n",
        "\n",
        "def EbNo_to_noise(ebnodb):\n",
        "    '''Transform EbNo[dB]/snr to noise power'''\n",
        "    ebno = 10**(ebnodb/10)\n",
        "    noise_std = 1/np.sqrt(2*(2*k/n)*ebno) \n",
        "    return noise_std\n",
        "\n",
        "\n",
        "def real_channel(x,noise_std):\n",
        "    # Black-box Channel\n",
        "    #AWGN\n",
        "    return x + tf.random.normal(tf.shape(x), mean=0.0, stddev=noise_std)\n",
        "\n",
        "    #Rayleigh\n",
        "    #return x + tf.sqrt(tf.square(tf.random_normal(tf.shape(x), mean=0.0, stddev=noise_std)) + tf.square(tf.random_normal(tf.shape(x), mean=0.0, stddev=noise_std)))\n",
        "    \n",
        "    #Uniform U(-3;3)    \n",
        "    #return x + tf.random_uniform(tf.shape(x), minval=-2, maxval=2)\n",
        "\n",
        "def B_Ber(input_msg, msg):\n",
        "    '''Calculate the Batch Bit Error Rate'''\n",
        "    pred_error = tf.not_equal(tf.argmax(msg, 1), tf.argmax(input_msg, 1))\n",
        "    bber = tf.reduce_mean(tf.cast(pred_error, tf.float32))\n",
        "    return bber\n",
        "\n",
        "def random_sample(batch_size=32):\n",
        "    msg = np.random.randint(M, size=batch_size)\n",
        "    return msg\n",
        "\n",
        "\n",
        "\n",
        "\n",
        "def B_Ber_m(input_msg, msg):\n",
        "    '''Calculate the Batch Bit Error Rate'''\n",
        "    pred_error = tf.not_equal(input_msg, tf.argmax(msg, 1))      \n",
        "    bber = tf.reduce_mean(tf.cast(pred_error, tf.float32))\n",
        "    return bber\n",
        "\n",
        "def SNR_to_noise(snrdb):\n",
        "    '''Transform EbNo[dB]/snr to noise power'''\n",
        "    snr = 10**(snrdb/10)\n",
        "    noise_std = 1/np.sqrt(2*snr)\n",
        "    return noise_std\n",
        "\n",
        "\n",
        "noise_std = EbNo2Sigma(SNR)\n",
        "\n",
        "print(EbNo2Sigma(SNR))\n",
        "print(EbNo_to_noise(SNR))"
      ],
      "execution_count": 4,
      "outputs": [
        {
          "output_type": "stream",
          "text": [
            "0.15792649852735607\n",
            "0.15792649852735607\n"
          ],
          "name": "stdout"
        }
      ]
    },
    {
      "cell_type": "markdown",
      "metadata": {
        "id": "AOoYuK_jR9rH",
        "colab_type": "text"
      },
      "source": [
        "# Models"
      ]
    },
    {
      "cell_type": "code",
      "metadata": {
        "ExecuteTime": {
          "end_time": "2019-05-14T06:31:29.973887Z",
          "start_time": "2019-05-14T06:31:29.969185Z"
        },
        "colab_type": "code",
        "id": "WbqrTgB_SYbf",
        "outputId": "e0027ee0-c693-42c9-8a47-8552beb13594",
        "colab": {
          "base_uri": "https://localhost:8080/",
          "height": 394
        }
      },
      "source": [
        "### install necessary packages if in colab\n",
        "def run_subprocess_command(cmd):\n",
        "  process = subprocess.Popen(cmd.split(), stdout=subprocess.PIPE)\n",
        "  for line in process.stdout:\n",
        "      print(line.decode().strip())\n",
        "      \n",
        "import sys, subprocess\n",
        "IN_COLAB = 'google.colab' in sys.modules\n",
        "colab_requirements = ['pip install tf-nightly-gpu-2.0-preview==2.0.0.dev20190513']\n",
        "if IN_COLAB:\n",
        "  for i in colab_requirements:\n",
        "    run_subprocess_command(i)"
      ],
      "execution_count": 5,
      "outputs": [
        {
          "output_type": "stream",
          "text": [
            "Requirement already satisfied: tf-nightly-gpu-2.0-preview==2.0.0.dev20190513 in /usr/local/lib/python3.6/dist-packages (2.0.0.dev20190513)\n",
            "Requirement already satisfied: keras-applications>=1.0.6 in /usr/local/lib/python3.6/dist-packages (from tf-nightly-gpu-2.0-preview==2.0.0.dev20190513) (1.0.8)\n",
            "Requirement already satisfied: gast>=0.2.0 in /usr/local/lib/python3.6/dist-packages (from tf-nightly-gpu-2.0-preview==2.0.0.dev20190513) (0.2.2)\n",
            "Requirement already satisfied: keras-preprocessing>=1.0.5 in /usr/local/lib/python3.6/dist-packages (from tf-nightly-gpu-2.0-preview==2.0.0.dev20190513) (1.1.0)\n",
            "Requirement already satisfied: termcolor>=1.1.0 in /usr/local/lib/python3.6/dist-packages (from tf-nightly-gpu-2.0-preview==2.0.0.dev20190513) (1.1.0)\n",
            "Requirement already satisfied: astor>=0.6.0 in /usr/local/lib/python3.6/dist-packages (from tf-nightly-gpu-2.0-preview==2.0.0.dev20190513) (0.8.0)\n",
            "Requirement already satisfied: absl-py>=0.7.0 in /usr/local/lib/python3.6/dist-packages (from tf-nightly-gpu-2.0-preview==2.0.0.dev20190513) (0.8.1)\n",
            "Requirement already satisfied: wheel>=0.26 in /usr/local/lib/python3.6/dist-packages (from tf-nightly-gpu-2.0-preview==2.0.0.dev20190513) (0.33.6)\n",
            "Requirement already satisfied: numpy<2.0,>=1.14.5 in /usr/local/lib/python3.6/dist-packages (from tf-nightly-gpu-2.0-preview==2.0.0.dev20190513) (1.17.3)\n",
            "Requirement already satisfied: tb-nightly<1.15.0a0,>=1.14.0a0 in /usr/local/lib/python3.6/dist-packages (from tf-nightly-gpu-2.0-preview==2.0.0.dev20190513) (1.14.0a20190614)\n",
            "Requirement already satisfied: six>=1.10.0 in /usr/local/lib/python3.6/dist-packages (from tf-nightly-gpu-2.0-preview==2.0.0.dev20190513) (1.12.0)\n",
            "Requirement already satisfied: google-pasta>=0.1.6 in /usr/local/lib/python3.6/dist-packages (from tf-nightly-gpu-2.0-preview==2.0.0.dev20190513) (0.1.8)\n",
            "Requirement already satisfied: grpcio>=1.8.6 in /usr/local/lib/python3.6/dist-packages (from tf-nightly-gpu-2.0-preview==2.0.0.dev20190513) (1.15.0)\n",
            "Requirement already satisfied: wrapt>=1.11.1 in /usr/local/lib/python3.6/dist-packages (from tf-nightly-gpu-2.0-preview==2.0.0.dev20190513) (1.11.2)\n",
            "Requirement already satisfied: tensorflow-estimator-2.0-preview in /usr/local/lib/python3.6/dist-packages (from tf-nightly-gpu-2.0-preview==2.0.0.dev20190513) (2.0.0)\n",
            "Requirement already satisfied: protobuf>=3.6.1 in /usr/local/lib/python3.6/dist-packages (from tf-nightly-gpu-2.0-preview==2.0.0.dev20190513) (3.10.0)\n",
            "Requirement already satisfied: h5py in /usr/local/lib/python3.6/dist-packages (from keras-applications>=1.0.6->tf-nightly-gpu-2.0-preview==2.0.0.dev20190513) (2.8.0)\n",
            "Requirement already satisfied: setuptools>=41.0.0 in /usr/local/lib/python3.6/dist-packages (from tb-nightly<1.15.0a0,>=1.14.0a0->tf-nightly-gpu-2.0-preview==2.0.0.dev20190513) (41.4.0)\n",
            "Requirement already satisfied: werkzeug>=0.11.15 in /usr/local/lib/python3.6/dist-packages (from tb-nightly<1.15.0a0,>=1.14.0a0->tf-nightly-gpu-2.0-preview==2.0.0.dev20190513) (0.16.0)\n",
            "Requirement already satisfied: markdown>=2.6.8 in /usr/local/lib/python3.6/dist-packages (from tb-nightly<1.15.0a0,>=1.14.0a0->tf-nightly-gpu-2.0-preview==2.0.0.dev20190513) (3.1.1)\n"
          ],
          "name": "stdout"
        }
      ]
    },
    {
      "cell_type": "markdown",
      "metadata": {
        "colab_type": "text",
        "id": "3eKFKF5HSYbi"
      },
      "source": [
        "### load packages"
      ]
    },
    {
      "cell_type": "code",
      "metadata": {
        "ExecuteTime": {
          "end_time": "2019-05-14T06:31:30.061880Z",
          "start_time": "2019-05-14T06:31:29.975587Z"
        },
        "colab_type": "code",
        "id": "at1xYevFSYbl",
        "outputId": "59401f19-ffcd-49f5-98d1-5e5f8328ca0b",
        "colab": {
          "base_uri": "https://localhost:8080/",
          "height": 35
        }
      },
      "source": [
        "# make visible the only one GPU\n",
        "%env CUDA_VISIBLE_DEVICES=3"
      ],
      "execution_count": 6,
      "outputs": [
        {
          "output_type": "stream",
          "text": [
            "env: CUDA_VISIBLE_DEVICES=3\n"
          ],
          "name": "stdout"
        }
      ]
    },
    {
      "cell_type": "code",
      "metadata": {
        "ExecuteTime": {
          "end_time": "2019-05-14T06:31:33.702580Z",
          "start_time": "2019-05-14T06:31:30.063437Z"
        },
        "colab_type": "code",
        "id": "759gzUFlSYbq",
        "outputId": "ad55fadc-0c8a-488f-a92c-cd1a461b82b8",
        "colab": {
          "base_uri": "https://localhost:8080/",
          "height": 73
        }
      },
      "source": [
        "import tensorflow as tf\n",
        "import numpy as np\n",
        "import matplotlib.pyplot as plt\n",
        "from tqdm.autonotebook import tqdm\n",
        "%matplotlib inline\n",
        "from IPython import display\n",
        "import pandas as pd"
      ],
      "execution_count": 7,
      "outputs": [
        {
          "output_type": "stream",
          "text": [
            "/usr/local/lib/python3.6/dist-packages/tqdm/autonotebook/__init__.py:14: TqdmExperimentalWarning: Using `tqdm.autonotebook.tqdm` in notebook mode. Use `tqdm.tqdm` instead to force console mode (e.g. in jupyter console)\n",
            "  \" (e.g. in jupyter console)\", TqdmExperimentalWarning)\n"
          ],
          "name": "stderr"
        }
      ]
    },
    {
      "cell_type": "code",
      "metadata": {
        "ExecuteTime": {
          "end_time": "2019-05-14T06:31:33.711214Z",
          "start_time": "2019-05-14T06:31:33.706313Z"
        },
        "colab_type": "code",
        "id": "AxY3I4SfSYbt",
        "outputId": "3bbb04f5-ca31-4bb2-b279-f01ea88dba8f",
        "colab": {
          "base_uri": "https://localhost:8080/",
          "height": 35
        }
      },
      "source": [
        "print(tf.__version__)"
      ],
      "execution_count": 8,
      "outputs": [
        {
          "output_type": "stream",
          "text": [
            "2.0.0-dev20190513\n"
          ],
          "name": "stdout"
        }
      ]
    },
    {
      "cell_type": "code",
      "metadata": {
        "ExecuteTime": {
          "end_time": "2019-05-14T06:31:33.803523Z",
          "start_time": "2019-05-14T06:31:33.714599Z"
        },
        "colab_type": "code",
        "id": "Ypym6ZAESYbx",
        "colab": {}
      },
      "source": [
        "#TRAIN_BUF=60000\n",
        "#BATCH_SIZE=512\n",
        "#TEST_BUF=10000\n",
        "#DIMS = (28,28,1)\n",
        "#N_TRAIN_BATCHES =int(TRAIN_BUF/BATCH_SIZE)\n",
        "#N_TEST_BATCHES = int(TEST_BUF/BATCH_SIZE)\n",
        "#print(N_TRAIN_BATCHES)"
      ],
      "execution_count": 0,
      "outputs": []
    },
    {
      "cell_type": "code",
      "metadata": {
        "ExecuteTime": {
          "end_time": "2019-05-14T06:31:38.044471Z",
          "start_time": "2019-05-14T06:31:33.805821Z"
        },
        "colab_type": "code",
        "id": "xhqU6sqiSYbz",
        "colab": {}
      },
      "source": [
        "####Datensets muessen theortisch die originale sein, also bei mir Rauschen und das Rauschen über den Kanal\n",
        "\n",
        "# load dataset\n",
        "#(train_images, _), (test_images, _) = tf.keras.datasets.fashion_mnist.load_data()\n",
        "\n",
        "# split dataset\n",
        "#train_images = train_images.reshape(train_images.shape[0], 28, 28, 1).astype(\n",
        "#    \"float32\"\n",
        "#) / 255.0\n",
        "#test_images = test_images.reshape(test_images.shape[0], 28, 28, 1).astype(\"float32\") / 255.0\n",
        "\n",
        "# batch datasets\n",
        "#train_dataset = (\n",
        "#    tf.data.Dataset.from_tensor_slices(train_images)\n",
        "#    .shuffle(TRAIN_BUF)\n",
        "#    .batch(BATCH_SIZE)\n",
        "#)\n",
        "#test_dataset = (\n",
        "#    tf.data.Dataset.from_tensor_slices(test_images)\n",
        "#    .shuffle(TEST_BUF)\n",
        "#    .batch(BATCH_SIZE)\n",
        "#)\n",
        "\n",
        "def creat_train_data(length):\n",
        "  train_dataset=[]\n",
        "  for i in range(length):\n",
        "    x = tf.random.normal((batch_size,n),dtype=tf.dtypes.float32) \n",
        "    x = x/tf.sqrt(2*tf.reduce_mean(tf.square(x)))\n",
        "    train_dataset.append(real_channel(x,noise_std))\n",
        "  return train_dataset\n",
        "\n",
        "train_dataset = creat_train_data(100)\n",
        "\n",
        "test_dataset = creat_train_data(100)\n"
      ],
      "execution_count": 0,
      "outputs": []
    },
    {
      "cell_type": "markdown",
      "metadata": {
        "colab_type": "text",
        "id": "HLxPlL7QSYb1"
      },
      "source": [
        "### Define the network as tf.keras.model object"
      ]
    },
    {
      "cell_type": "code",
      "metadata": {
        "id": "n4gYXZf9hkzY",
        "colab_type": "code",
        "colab": {}
      },
      "source": [
        "#@tf.function\n",
        "def train(real_data):\n",
        "  gen_gradients, disc_gradients = compute_gradients(real_data)\n",
        "  apply_gradients(gen_gradients, disc_gradients)"
      ],
      "execution_count": 0,
      "outputs": []
    },
    {
      "cell_type": "code",
      "metadata": {
        "id": "PPsFbJwchvhq",
        "colab_type": "code",
        "colab": {}
      },
      "source": [
        "def compute_gradients(real_data):\n",
        "  \"\"\" passes through the network and computes loss\n",
        "  \"\"\"\n",
        "  with tf.GradientTape() as gen_tape, tf.GradientTape() as disc_tape:\n",
        "    disc_loss, gen_loss = compute_loss(real_data)\n",
        "  gen_gradients = gen_tape.gradient(gen_loss, w_generator.trainable_variables)\n",
        "  disc_gradients = disc_tape.gradient(disc_loss, w_discriminator.trainable_variables)\n",
        "\n",
        "  print(\"compute_gradients\")\n",
        "\n",
        "  return gen_gradients, disc_gradients"
      ],
      "execution_count": 0,
      "outputs": []
    },
    {
      "cell_type": "code",
      "metadata": {
        "ExecuteTime": {
          "end_time": "2019-05-14T06:31:38.068468Z",
          "start_time": "2019-05-14T06:31:38.046751Z"
        },
        "colab_type": "code",
        "id": "Wyipg-4oSYb1",
        "colab": {}
      },
      "source": [
        "def compute_loss(real_data):\n",
        "  \"\"\" passes through the network and computes loss\n",
        "  \"\"\"\n",
        "        ### pass through network\n",
        "        # generating noise from a uniform distribution\n",
        "  ####Mein noise ist anders als hier\n",
        "  gradient_penalty_weight = 10\n",
        "\n",
        "\n",
        "  \n",
        "  x_samp = tf.random.normal((batch_size,n),dtype=tf.dtypes.float32)\n",
        "  #print(x_samp)\n",
        "  # run noise through generator\n",
        "  x_gen = w_generator(x_samp,training =True)     # x_gen zu fake_data\n",
        "  # discriminate x and x_gen\n",
        "  logits_x = w_discriminator(real_data)\n",
        "  logits_x_gen = w_discriminator(x_gen)\n",
        "\n",
        "  # gradient penalty\n",
        "  d_regularizer = gradient_penalty(real_data, x_gen)\n",
        "        ### losses\n",
        "  disc_loss = (tf.reduce_mean(logits_x) - tf.reduce_mean(logits_x_gen)+ d_regularizer * gradient_penalty_weight)\n",
        "\n",
        "        # losses of fake with label \"1\"\n",
        "  gen_loss = tf.reduce_mean(logits_x_gen)\n",
        "  return disc_loss, gen_loss\n",
        "\n",
        "\n",
        "\n",
        "def apply_gradients(gen_gradients, disc_gradients):\n",
        "  gen_optimizer.apply_gradients(zip(gen_gradients, w_generator.trainable_variables))\n",
        "  disc_optimizer.apply_gradients(zip(disc_gradients, w_discriminator.trainable_variables))\n",
        "\n",
        "def gradient_penalty(x, x_gen):\n",
        "  epsilon = tf.random.uniform([x.shape[0], 1, 1, 1], 0.0, 1.0)\n",
        "  x_hat = epsilon * x + (1 - epsilon) * x_gen\n",
        "  with tf.GradientTape() as t:\n",
        "      t.watch(x_hat)\n",
        "      d_hat = w_discriminator(x_hat)\n",
        "  gradients = t.gradient(d_hat, x_hat)\n",
        "  ddx = tf.sqrt(tf.reduce_sum(gradients ** 2, axis=[1, 2]))\n",
        "  d_regularizer = tf.reduce_mean((ddx - 1.0) ** 2)\n",
        "  #print(\"gradient_penalty\")\n",
        "  return d_regularizer\n",
        "\n"
      ],
      "execution_count": 0,
      "outputs": []
    },
    {
      "cell_type": "markdown",
      "metadata": {
        "colab_type": "text",
        "id": "qEVl58nDSYb4"
      },
      "source": [
        "### Define the network architecture\n",
        "\n",
        "## Changes\n",
        "in dem vorherigen GAN modell hat der discriminator side_infomation erhalten, worin das original Rauschen enthalten war. Dies ist in dem WGAN paper anders gemacht worden."
      ]
    },
    {
      "cell_type": "code",
      "metadata": {
        "ExecuteTime": {
          "end_time": "2019-05-14T06:31:38.219862Z",
          "start_time": "2019-05-14T06:31:38.070570Z"
        },
        "colab_type": "code",
        "id": "dyU21SGbSYb4",
        "colab": {}
      },
      "source": [
        "N_Z = n\n",
        "\n",
        "\n",
        "w_generator = keras.models.Sequential([\n",
        "  tf.keras.layers.Input(shape=(n,)),\n",
        "  tf.keras.layers.Dense(32,use_bias=True,  activation='relu'),\n",
        "  tf.keras.layers.Dense(32,use_bias=True, activation='relu'),\n",
        "  tf.keras.layers.Dense(n, use_bias= True, activation='sigmoid')\n",
        "   ])\n",
        "\n",
        "w_discriminator = keras.models.Sequential([\n",
        "  tf.keras.layers.Dense(32,use_bias=True, kernel_initializer=randN_initial,activation='relu',input_shape=((n,))),\n",
        "  #model.add(tf.keras.layers.Dense(32,use_bias=True, kernel_initializer=randN_initial, activation='relu'))\n",
        "  tf.keras.layers.Dense(1,use_bias=False, activation='sigmoid')\n",
        "])\n",
        "\n"
      ],
      "execution_count": 0,
      "outputs": []
    },
    {
      "cell_type": "markdown",
      "metadata": {
        "ExecuteTime": {
          "end_time": "2019-05-10T18:40:40.306731Z",
          "start_time": "2019-05-10T18:40:40.292930Z"
        },
        "colab_type": "text",
        "id": "wi_ZuWBdSYb6"
      },
      "source": [
        "### Create Model"
      ]
    },
    {
      "cell_type": "code",
      "metadata": {
        "ExecuteTime": {
          "end_time": "2019-05-14T06:31:39.047233Z",
          "start_time": "2019-05-14T06:31:38.222179Z"
        },
        "colab_type": "code",
        "id": "dSYjNRAwSYb7",
        "colab": {}
      },
      "source": [
        "# optimizers\n",
        "gen_optimizer = tf.keras.optimizers.Adam(0.0001)#, beta_1=0.5)\n",
        "disc_optimizer = tf.keras.optimizers.RMSprop(0.0005)# train the model\n",
        "# model\n",
        "#model = WGAN(\n",
        "#    gen = w_generator,\n",
        "#    disc = w_discriminator,\n",
        "#    gen_optimizer = gen_optimizer,\n",
        "#    disc_optimizer = disc_optimizer,\n",
        "#    n_Z = N_Z,\n",
        "gradient_penalty_weight = 10.0\n"
      ],
      "execution_count": 0,
      "outputs": []
    },
    {
      "cell_type": "markdown",
      "metadata": {
        "colab_type": "text",
        "id": "qwBg8NwrSYb9"
      },
      "source": [
        "### Train the model"
      ]
    },
    {
      "cell_type": "code",
      "metadata": {
        "ExecuteTime": {
          "end_time": "2019-05-14T06:31:39.056490Z",
          "start_time": "2019-05-14T06:31:39.049635Z"
        },
        "colab_type": "code",
        "id": "47sz8RMeSYb-",
        "colab": {}
      },
      "source": [
        "# exampled data for plotting results\n",
        "def plot_reconstruction(model, nex=8, zm=2):\n",
        "    samples = model.generate(tf.random.normal(shape=(BATCH_SIZE, N_Z)))\n",
        "    fig, axs = plt.subplots(ncols=nex, nrows=1, figsize=(zm * nex, zm))\n",
        "    for axi in range(nex):\n",
        "        axs[axi].matshow(\n",
        "                    samples.numpy()[axi].squeeze(), cmap=plt.cm.Greys, vmin=0, vmax=1\n",
        "                )\n",
        "        axs[axi].axis('off')\n",
        "    plt.show()"
      ],
      "execution_count": 0,
      "outputs": []
    },
    {
      "cell_type": "code",
      "metadata": {
        "ExecuteTime": {
          "end_time": "2019-05-14T06:31:39.152670Z",
          "start_time": "2019-05-14T06:31:39.058505Z"
        },
        "colab_type": "code",
        "id": "pKkEX9yBSYcB",
        "colab": {}
      },
      "source": [
        "# a pandas dataframe to save the loss information to\n",
        "losses = pd.DataFrame(columns = ['disc_loss', 'gen_loss'])"
      ],
      "execution_count": 0,
      "outputs": []
    },
    {
      "cell_type": "code",
      "metadata": {
        "ExecuteTime": {
          "end_time": "2019-05-14T07:04:26.791634Z",
          "start_time": "2019-05-14T07:04:17.126436Z"
        },
        "colab_type": "code",
        "id": "00dI2M4iSYcE",
        "outputId": "113ebd6b-33af-4017-e5c0-e82a5372392b",
        "colab": {
          "base_uri": "https://localhost:8080/",
          "height": 1000
        }
      },
      "source": [
        "n_epochs = 500\n",
        "for epoch in range(n_epochs):\n",
        "  x = tf.random.normal((batch_size,n),dtype=tf.dtypes.float32) \n",
        "  x_samp  = x/tf.sqrt(2*tf.reduce_mean(tf.square(x)))\n",
        "  real_data = real_channel(x_samp, noise_std)\n",
        "  train(real_data)\n",
        "    # test on holdout\n",
        "  loss = []\n",
        "\n",
        "  loss.append(compute_loss(real_data))\n",
        "  losses.loc[len(losses)] = np.mean(loss, axis=0)\n",
        "  print(\n",
        "       \"Epoch: {} | disc_loss: {} | gen_loss: {}\".format(\n",
        "            epoch, losses.disc_loss.values[-1], losses.gen_loss.values[-1]\n",
        "        )  )\n",
        "# plot_reconstruction(model)"
      ],
      "execution_count": 18,
      "outputs": [
        {
          "output_type": "stream",
          "text": [
            "compute_gradients\n",
            "Epoch: 0 | disc_loss: 7.296729564666748 | gen_loss: 0.5035708546638489\n",
            "compute_gradients\n",
            "Epoch: 1 | disc_loss: 7.239821910858154 | gen_loss: 0.5041967034339905\n",
            "compute_gradients\n",
            "Epoch: 2 | disc_loss: 7.054571628570557 | gen_loss: 0.5047413110733032\n",
            "compute_gradients\n",
            "Epoch: 3 | disc_loss: 6.89886474609375 | gen_loss: 0.5053767561912537\n",
            "compute_gradients\n",
            "Epoch: 4 | disc_loss: 6.6467084884643555 | gen_loss: 0.5056905746459961\n",
            "compute_gradients\n",
            "Epoch: 5 | disc_loss: 6.61902379989624 | gen_loss: 0.5058331489562988\n",
            "compute_gradients\n",
            "Epoch: 6 | disc_loss: 6.489140033721924 | gen_loss: 0.5062851905822754\n",
            "compute_gradients\n",
            "Epoch: 7 | disc_loss: 6.474483013153076 | gen_loss: 0.5065643787384033\n",
            "compute_gradients\n",
            "Epoch: 8 | disc_loss: 6.4216508865356445 | gen_loss: 0.5070045590400696\n",
            "compute_gradients\n",
            "Epoch: 9 | disc_loss: 6.4001970291137695 | gen_loss: 0.5075452327728271\n",
            "compute_gradients\n",
            "Epoch: 10 | disc_loss: 6.216831684112549 | gen_loss: 0.5076703429222107\n",
            "compute_gradients\n",
            "Epoch: 11 | disc_loss: 6.149714946746826 | gen_loss: 0.5080625414848328\n",
            "compute_gradients\n",
            "Epoch: 12 | disc_loss: 6.063474655151367 | gen_loss: 0.5083020925521851\n",
            "compute_gradients\n",
            "Epoch: 13 | disc_loss: 6.103011131286621 | gen_loss: 0.5087577700614929\n",
            "compute_gradients\n",
            "Epoch: 14 | disc_loss: 5.977403163909912 | gen_loss: 0.5090770125389099\n",
            "compute_gradients\n",
            "Epoch: 15 | disc_loss: 5.8449201583862305 | gen_loss: 0.5092988610267639\n",
            "compute_gradients\n",
            "Epoch: 16 | disc_loss: 5.933615684509277 | gen_loss: 0.5097232460975647\n",
            "compute_gradients\n",
            "Epoch: 17 | disc_loss: 5.738532066345215 | gen_loss: 0.5101043581962585\n",
            "compute_gradients\n",
            "Epoch: 18 | disc_loss: 5.535632610321045 | gen_loss: 0.5101161599159241\n",
            "compute_gradients\n",
            "Epoch: 19 | disc_loss: 5.541401386260986 | gen_loss: 0.5106828808784485\n",
            "compute_gradients\n",
            "Epoch: 20 | disc_loss: 5.414083957672119 | gen_loss: 0.511077344417572\n",
            "compute_gradients\n",
            "Epoch: 21 | disc_loss: 5.432320594787598 | gen_loss: 0.5115686655044556\n",
            "compute_gradients\n",
            "Epoch: 22 | disc_loss: 5.333066463470459 | gen_loss: 0.5119351148605347\n",
            "compute_gradients\n",
            "Epoch: 23 | disc_loss: 5.494789123535156 | gen_loss: 0.5120657086372375\n",
            "compute_gradients\n",
            "Epoch: 24 | disc_loss: 5.302519798278809 | gen_loss: 0.5126346945762634\n",
            "compute_gradients\n",
            "Epoch: 25 | disc_loss: 5.391573905944824 | gen_loss: 0.5127934217453003\n",
            "compute_gradients\n",
            "Epoch: 26 | disc_loss: 5.267230033874512 | gen_loss: 0.5133779644966125\n",
            "compute_gradients\n",
            "Epoch: 27 | disc_loss: 5.153436660766602 | gen_loss: 0.5138208866119385\n",
            "compute_gradients\n",
            "Epoch: 28 | disc_loss: 5.098893642425537 | gen_loss: 0.513810396194458\n",
            "compute_gradients\n",
            "Epoch: 29 | disc_loss: 5.033823490142822 | gen_loss: 0.5142489671707153\n",
            "compute_gradients\n",
            "Epoch: 30 | disc_loss: 5.1353325843811035 | gen_loss: 0.514390766620636\n",
            "compute_gradients\n",
            "Epoch: 31 | disc_loss: 4.906617641448975 | gen_loss: 0.5148088335990906\n",
            "compute_gradients\n",
            "Epoch: 32 | disc_loss: 4.996984958648682 | gen_loss: 0.5154945850372314\n",
            "compute_gradients\n",
            "Epoch: 33 | disc_loss: 4.907355785369873 | gen_loss: 0.5155062675476074\n",
            "compute_gradients\n",
            "Epoch: 34 | disc_loss: 4.709153652191162 | gen_loss: 0.5157562494277954\n",
            "compute_gradients\n",
            "Epoch: 35 | disc_loss: 4.768401622772217 | gen_loss: 0.5163437128067017\n",
            "compute_gradients\n",
            "Epoch: 36 | disc_loss: 4.814258575439453 | gen_loss: 0.5166558027267456\n",
            "compute_gradients\n",
            "Epoch: 37 | disc_loss: 4.6711745262146 | gen_loss: 0.5173954963684082\n",
            "compute_gradients\n",
            "Epoch: 38 | disc_loss: 4.575071334838867 | gen_loss: 0.5175445079803467\n",
            "compute_gradients\n",
            "Epoch: 39 | disc_loss: 4.552240371704102 | gen_loss: 0.5177505612373352\n",
            "compute_gradients\n",
            "Epoch: 40 | disc_loss: 4.562375068664551 | gen_loss: 0.5182905793190002\n",
            "compute_gradients\n",
            "Epoch: 41 | disc_loss: 4.3575334548950195 | gen_loss: 0.5187298059463501\n",
            "compute_gradients\n",
            "Epoch: 42 | disc_loss: 4.357028484344482 | gen_loss: 0.519149899482727\n",
            "compute_gradients\n",
            "Epoch: 43 | disc_loss: 4.332024097442627 | gen_loss: 0.5195828676223755\n",
            "compute_gradients\n",
            "Epoch: 44 | disc_loss: 4.2066650390625 | gen_loss: 0.5203549265861511\n",
            "compute_gradients\n",
            "Epoch: 45 | disc_loss: 4.2759175300598145 | gen_loss: 0.5206942558288574\n",
            "compute_gradients\n",
            "Epoch: 46 | disc_loss: 4.184234619140625 | gen_loss: 0.5209850072860718\n",
            "compute_gradients\n",
            "Epoch: 47 | disc_loss: 4.068266868591309 | gen_loss: 0.5218700170516968\n",
            "compute_gradients\n",
            "Epoch: 48 | disc_loss: 3.9946227073669434 | gen_loss: 0.5221767425537109\n",
            "compute_gradients\n",
            "Epoch: 49 | disc_loss: 3.809476137161255 | gen_loss: 0.5225775241851807\n",
            "compute_gradients\n",
            "Epoch: 50 | disc_loss: 4.01047420501709 | gen_loss: 0.523341715335846\n",
            "compute_gradients\n",
            "Epoch: 51 | disc_loss: 3.9886741638183594 | gen_loss: 0.5238894820213318\n",
            "compute_gradients\n",
            "Epoch: 52 | disc_loss: 3.9281656742095947 | gen_loss: 0.5243946313858032\n",
            "compute_gradients\n",
            "Epoch: 53 | disc_loss: 3.8827247619628906 | gen_loss: 0.5246809124946594\n",
            "compute_gradients\n",
            "Epoch: 54 | disc_loss: 3.78961443901062 | gen_loss: 0.5249392986297607\n",
            "compute_gradients\n",
            "Epoch: 55 | disc_loss: 3.4645183086395264 | gen_loss: 0.5250676870346069\n",
            "compute_gradients\n",
            "Epoch: 56 | disc_loss: 3.479348659515381 | gen_loss: 0.5257143378257751\n",
            "compute_gradients\n",
            "Epoch: 57 | disc_loss: 3.439512252807617 | gen_loss: 0.5259301662445068\n",
            "compute_gradients\n",
            "Epoch: 58 | disc_loss: 3.5333149433135986 | gen_loss: 0.5266796350479126\n",
            "compute_gradients\n",
            "Epoch: 59 | disc_loss: 3.4906649589538574 | gen_loss: 0.5271098017692566\n",
            "compute_gradients\n",
            "Epoch: 60 | disc_loss: 3.5622527599334717 | gen_loss: 0.5275735259056091\n",
            "compute_gradients\n",
            "Epoch: 61 | disc_loss: 3.6512644290924072 | gen_loss: 0.5278940796852112\n",
            "compute_gradients\n",
            "Epoch: 62 | disc_loss: 3.3445498943328857 | gen_loss: 0.5283196568489075\n",
            "compute_gradients\n",
            "Epoch: 63 | disc_loss: 3.5017316341400146 | gen_loss: 0.5282350182533264\n",
            "compute_gradients\n",
            "Epoch: 64 | disc_loss: 3.457982063293457 | gen_loss: 0.5293221473693848\n",
            "compute_gradients\n",
            "Epoch: 65 | disc_loss: 3.3549275398254395 | gen_loss: 0.5290258526802063\n",
            "compute_gradients\n",
            "Epoch: 66 | disc_loss: 3.03684401512146 | gen_loss: 0.5293744802474976\n",
            "compute_gradients\n",
            "Epoch: 67 | disc_loss: 2.987247943878174 | gen_loss: 0.5302151441574097\n",
            "compute_gradients\n",
            "Epoch: 68 | disc_loss: 3.0794806480407715 | gen_loss: 0.5309361815452576\n",
            "compute_gradients\n",
            "Epoch: 69 | disc_loss: 3.0030605792999268 | gen_loss: 0.5313168168067932\n",
            "compute_gradients\n",
            "Epoch: 70 | disc_loss: 2.989048480987549 | gen_loss: 0.5318876504898071\n",
            "compute_gradients\n",
            "Epoch: 71 | disc_loss: 3.0112571716308594 | gen_loss: 0.5315768718719482\n",
            "compute_gradients\n",
            "Epoch: 72 | disc_loss: 2.5517024993896484 | gen_loss: 0.5322063565254211\n",
            "compute_gradients\n",
            "Epoch: 73 | disc_loss: 2.877225399017334 | gen_loss: 0.5327506065368652\n",
            "compute_gradients\n",
            "Epoch: 74 | disc_loss: 2.7153286933898926 | gen_loss: 0.5328084230422974\n",
            "compute_gradients\n",
            "Epoch: 75 | disc_loss: 2.8107404708862305 | gen_loss: 0.5342613458633423\n",
            "compute_gradients\n",
            "Epoch: 76 | disc_loss: 2.693186044692993 | gen_loss: 0.5337029695510864\n",
            "compute_gradients\n",
            "Epoch: 77 | disc_loss: 2.6510732173919678 | gen_loss: 0.5345601439476013\n",
            "compute_gradients\n",
            "Epoch: 78 | disc_loss: 2.619346857070923 | gen_loss: 0.5348448157310486\n",
            "compute_gradients\n",
            "Epoch: 79 | disc_loss: 2.5372979640960693 | gen_loss: 0.5354222655296326\n",
            "compute_gradients\n",
            "Epoch: 80 | disc_loss: 2.5269055366516113 | gen_loss: 0.5356430411338806\n",
            "compute_gradients\n",
            "Epoch: 81 | disc_loss: 2.444870948791504 | gen_loss: 0.5360611081123352\n",
            "compute_gradients\n",
            "Epoch: 82 | disc_loss: 2.322439432144165 | gen_loss: 0.5365277528762817\n",
            "compute_gradients\n",
            "Epoch: 83 | disc_loss: 2.3504927158355713 | gen_loss: 0.5370237827301025\n",
            "compute_gradients\n",
            "Epoch: 84 | disc_loss: 2.293503522872925 | gen_loss: 0.5374265909194946\n",
            "compute_gradients\n",
            "Epoch: 85 | disc_loss: 2.296748161315918 | gen_loss: 0.5378220081329346\n",
            "compute_gradients\n",
            "Epoch: 86 | disc_loss: 2.352914810180664 | gen_loss: 0.5380155444145203\n",
            "compute_gradients\n",
            "Epoch: 87 | disc_loss: 2.1729068756103516 | gen_loss: 0.5387358069419861\n",
            "compute_gradients\n",
            "Epoch: 88 | disc_loss: 2.1247260570526123 | gen_loss: 0.539158046245575\n",
            "compute_gradients\n",
            "Epoch: 89 | disc_loss: 1.8047219514846802 | gen_loss: 0.5400475859642029\n",
            "compute_gradients\n",
            "Epoch: 90 | disc_loss: 1.7284760475158691 | gen_loss: 0.5402542352676392\n",
            "compute_gradients\n",
            "Epoch: 91 | disc_loss: 2.0594851970672607 | gen_loss: 0.5405634641647339\n",
            "compute_gradients\n",
            "Epoch: 92 | disc_loss: 2.025362253189087 | gen_loss: 0.5413253307342529\n",
            "compute_gradients\n",
            "Epoch: 93 | disc_loss: 2.0738706588745117 | gen_loss: 0.541408896446228\n",
            "compute_gradients\n",
            "Epoch: 94 | disc_loss: 1.9730499982833862 | gen_loss: 0.5418521761894226\n",
            "compute_gradients\n",
            "Epoch: 95 | disc_loss: 1.8786327838897705 | gen_loss: 0.5423152446746826\n",
            "compute_gradients\n",
            "Epoch: 96 | disc_loss: 1.7582727670669556 | gen_loss: 0.5427161455154419\n",
            "compute_gradients\n",
            "Epoch: 97 | disc_loss: 1.5848735570907593 | gen_loss: 0.5430651307106018\n",
            "compute_gradients\n",
            "Epoch: 98 | disc_loss: 1.4867372512817383 | gen_loss: 0.5435945987701416\n",
            "compute_gradients\n",
            "Epoch: 99 | disc_loss: 1.6082794666290283 | gen_loss: 0.5431313514709473\n",
            "compute_gradients\n",
            "Epoch: 100 | disc_loss: 1.6411547660827637 | gen_loss: 0.5435380339622498\n",
            "compute_gradients\n",
            "Epoch: 101 | disc_loss: 1.7148489952087402 | gen_loss: 0.5442590117454529\n",
            "compute_gradients\n",
            "Epoch: 102 | disc_loss: 1.4638173580169678 | gen_loss: 0.5442570447921753\n",
            "compute_gradients\n",
            "Epoch: 103 | disc_loss: 1.3660147190093994 | gen_loss: 0.5448333024978638\n",
            "compute_gradients\n",
            "Epoch: 104 | disc_loss: 1.4744977951049805 | gen_loss: 0.5447407960891724\n",
            "compute_gradients\n",
            "Epoch: 105 | disc_loss: 1.34299898147583 | gen_loss: 0.5443185567855835\n",
            "compute_gradients\n",
            "Epoch: 106 | disc_loss: 1.5362739562988281 | gen_loss: 0.545479416847229\n",
            "compute_gradients\n",
            "Epoch: 107 | disc_loss: 1.3469932079315186 | gen_loss: 0.545561671257019\n",
            "compute_gradients\n",
            "Epoch: 108 | disc_loss: 1.409111738204956 | gen_loss: 0.5464301109313965\n",
            "compute_gradients\n",
            "Epoch: 109 | disc_loss: 1.3647412061691284 | gen_loss: 0.5463407039642334\n",
            "compute_gradients\n",
            "Epoch: 110 | disc_loss: 1.182958960533142 | gen_loss: 0.5468202829360962\n",
            "compute_gradients\n",
            "Epoch: 111 | disc_loss: 1.273850440979004 | gen_loss: 0.5475412607192993\n",
            "compute_gradients\n",
            "Epoch: 112 | disc_loss: 1.1309878826141357 | gen_loss: 0.5472557544708252\n",
            "compute_gradients\n",
            "Epoch: 113 | disc_loss: 1.0113444328308105 | gen_loss: 0.5477381348609924\n",
            "compute_gradients\n",
            "Epoch: 114 | disc_loss: 0.9261442422866821 | gen_loss: 0.5479390025138855\n",
            "compute_gradients\n",
            "Epoch: 115 | disc_loss: 1.0896018743515015 | gen_loss: 0.5487977862358093\n",
            "compute_gradients\n",
            "Epoch: 116 | disc_loss: 1.0684144496917725 | gen_loss: 0.5486581921577454\n",
            "compute_gradients\n",
            "Epoch: 117 | disc_loss: 1.0064165592193604 | gen_loss: 0.5495460629463196\n",
            "compute_gradients\n",
            "Epoch: 118 | disc_loss: 0.9802160263061523 | gen_loss: 0.549578070640564\n",
            "compute_gradients\n",
            "Epoch: 119 | disc_loss: 1.0101704597473145 | gen_loss: 0.5493742227554321\n",
            "compute_gradients\n",
            "Epoch: 120 | disc_loss: 0.7444231510162354 | gen_loss: 0.5496659278869629\n",
            "compute_gradients\n",
            "Epoch: 121 | disc_loss: 0.6982782483100891 | gen_loss: 0.5502612590789795\n",
            "compute_gradients\n",
            "Epoch: 122 | disc_loss: 0.7104613780975342 | gen_loss: 0.5507441163063049\n",
            "compute_gradients\n",
            "Epoch: 123 | disc_loss: 0.7325409054756165 | gen_loss: 0.5508906841278076\n",
            "compute_gradients\n",
            "Epoch: 124 | disc_loss: 0.8899821639060974 | gen_loss: 0.5512242913246155\n",
            "compute_gradients\n",
            "Epoch: 125 | disc_loss: 0.7000967264175415 | gen_loss: 0.5510804057121277\n",
            "compute_gradients\n",
            "Epoch: 126 | disc_loss: 0.6057528257369995 | gen_loss: 0.5526986122131348\n",
            "compute_gradients\n",
            "Epoch: 127 | disc_loss: 0.4240650236606598 | gen_loss: 0.5532782077789307\n",
            "compute_gradients\n",
            "Epoch: 128 | disc_loss: 0.63912034034729 | gen_loss: 0.5529051423072815\n",
            "compute_gradients\n",
            "Epoch: 129 | disc_loss: 0.6044850945472717 | gen_loss: 0.5509285926818848\n",
            "compute_gradients\n",
            "Epoch: 130 | disc_loss: 0.8500634431838989 | gen_loss: 0.5530962944030762\n",
            "compute_gradients\n",
            "Epoch: 131 | disc_loss: 0.590592086315155 | gen_loss: 0.5526368618011475\n",
            "compute_gradients\n",
            "Epoch: 132 | disc_loss: 0.5031514167785645 | gen_loss: 0.5525498390197754\n",
            "compute_gradients\n",
            "Epoch: 133 | disc_loss: 0.5688953399658203 | gen_loss: 0.5527393221855164\n",
            "compute_gradients\n",
            "Epoch: 134 | disc_loss: 0.29761821031570435 | gen_loss: 0.5530989766120911\n",
            "compute_gradients\n",
            "Epoch: 135 | disc_loss: 0.32693198323249817 | gen_loss: 0.5533643960952759\n",
            "compute_gradients\n",
            "Epoch: 136 | disc_loss: 0.22306638956069946 | gen_loss: 0.5532002449035645\n",
            "compute_gradients\n",
            "Epoch: 137 | disc_loss: 0.21610352396965027 | gen_loss: 0.5533525943756104\n",
            "compute_gradients\n",
            "Epoch: 138 | disc_loss: 0.33581656217575073 | gen_loss: 0.5545700192451477\n",
            "compute_gradients\n",
            "Epoch: 139 | disc_loss: 0.2448176145553589 | gen_loss: 0.553583562374115\n",
            "compute_gradients\n",
            "Epoch: 140 | disc_loss: 0.3260820209980011 | gen_loss: 0.5535016059875488\n",
            "compute_gradients\n",
            "Epoch: 141 | disc_loss: 0.30455195903778076 | gen_loss: 0.5540299415588379\n",
            "compute_gradients\n",
            "Epoch: 142 | disc_loss: 0.29869523644447327 | gen_loss: 0.555389940738678\n",
            "compute_gradients\n",
            "Epoch: 143 | disc_loss: 0.23465007543563843 | gen_loss: 0.5538012385368347\n",
            "compute_gradients\n",
            "Epoch: 144 | disc_loss: 0.20592010021209717 | gen_loss: 0.5547444820404053\n",
            "compute_gradients\n",
            "Epoch: 145 | disc_loss: 0.1872028410434723 | gen_loss: 0.555363655090332\n",
            "compute_gradients\n",
            "Epoch: 146 | disc_loss: 0.2502066493034363 | gen_loss: 0.5545281171798706\n",
            "compute_gradients\n",
            "Epoch: 147 | disc_loss: 0.11521223187446594 | gen_loss: 0.5553830862045288\n",
            "compute_gradients\n",
            "Epoch: 148 | disc_loss: 0.12003907561302185 | gen_loss: 0.5545770525932312\n",
            "compute_gradients\n",
            "Epoch: 149 | disc_loss: 0.10003170371055603 | gen_loss: 0.5555692911148071\n",
            "compute_gradients\n",
            "Epoch: 150 | disc_loss: 0.06772506237030029 | gen_loss: 0.5551398992538452\n",
            "compute_gradients\n",
            "Epoch: 151 | disc_loss: 0.09892876446247101 | gen_loss: 0.5565235018730164\n",
            "compute_gradients\n",
            "Epoch: 152 | disc_loss: 0.024677246809005737 | gen_loss: 0.5554262399673462\n",
            "compute_gradients\n",
            "Epoch: 153 | disc_loss: 0.07226802408695221 | gen_loss: 0.5570839047431946\n",
            "compute_gradients\n",
            "Epoch: 154 | disc_loss: 0.0970533937215805 | gen_loss: 0.5551199913024902\n",
            "compute_gradients\n",
            "Epoch: 155 | disc_loss: 0.08647900819778442 | gen_loss: 0.5577166080474854\n",
            "compute_gradients\n",
            "Epoch: 156 | disc_loss: 0.06594465672969818 | gen_loss: 0.5571110248565674\n",
            "compute_gradients\n",
            "Epoch: 157 | disc_loss: 0.01525619626045227 | gen_loss: 0.557614803314209\n",
            "compute_gradients\n",
            "Epoch: 158 | disc_loss: 0.03278017044067383 | gen_loss: 0.5574699640274048\n",
            "compute_gradients\n",
            "Epoch: 159 | disc_loss: -0.0010435059666633606 | gen_loss: 0.5584132671356201\n",
            "compute_gradients\n",
            "Epoch: 160 | disc_loss: -0.030179567635059357 | gen_loss: 0.556913435459137\n",
            "compute_gradients\n",
            "Epoch: 161 | disc_loss: -0.06793232262134552 | gen_loss: 0.5575041174888611\n",
            "compute_gradients\n",
            "Epoch: 162 | disc_loss: -0.05329297482967377 | gen_loss: 0.5579068660736084\n",
            "compute_gradients\n",
            "Epoch: 163 | disc_loss: -0.016379594802856445 | gen_loss: 0.5573620796203613\n",
            "compute_gradients\n",
            "Epoch: 164 | disc_loss: 0.026551544666290283 | gen_loss: 0.5571560859680176\n",
            "compute_gradients\n",
            "Epoch: 165 | disc_loss: -0.06122850626707077 | gen_loss: 0.5579456686973572\n",
            "compute_gradients\n",
            "Epoch: 166 | disc_loss: -0.05701028183102608 | gen_loss: 0.5565853714942932\n",
            "compute_gradients\n",
            "Epoch: 167 | disc_loss: -0.04241448640823364 | gen_loss: 0.5583207607269287\n",
            "compute_gradients\n",
            "Epoch: 168 | disc_loss: -0.06066935509443283 | gen_loss: 0.5576593279838562\n",
            "compute_gradients\n",
            "Epoch: 169 | disc_loss: -0.05927572399377823 | gen_loss: 0.5573245882987976\n",
            "compute_gradients\n",
            "Epoch: 170 | disc_loss: -0.06646159291267395 | gen_loss: 0.5569602251052856\n",
            "compute_gradients\n",
            "Epoch: 171 | disc_loss: -0.07405930012464523 | gen_loss: 0.558668315410614\n",
            "compute_gradients\n",
            "Epoch: 172 | disc_loss: -0.08380094170570374 | gen_loss: 0.5573402643203735\n",
            "compute_gradients\n",
            "Epoch: 173 | disc_loss: -0.08662167936563492 | gen_loss: 0.5568400025367737\n",
            "compute_gradients\n",
            "Epoch: 174 | disc_loss: -0.08956839889287949 | gen_loss: 0.5565717220306396\n",
            "compute_gradients\n",
            "Epoch: 175 | disc_loss: -0.08758548647165298 | gen_loss: 0.5579889416694641\n",
            "compute_gradients\n",
            "Epoch: 176 | disc_loss: -0.08513571321964264 | gen_loss: 0.5578732490539551\n",
            "compute_gradients\n",
            "Epoch: 177 | disc_loss: -0.07588734477758408 | gen_loss: 0.5585283041000366\n",
            "compute_gradients\n",
            "Epoch: 178 | disc_loss: -0.08242758363485336 | gen_loss: 0.5585341453552246\n",
            "compute_gradients\n",
            "Epoch: 179 | disc_loss: -0.086467444896698 | gen_loss: 0.5591942071914673\n",
            "compute_gradients\n",
            "Epoch: 180 | disc_loss: -0.08364629745483398 | gen_loss: 0.5587759017944336\n",
            "compute_gradients\n",
            "Epoch: 181 | disc_loss: -0.08416561782360077 | gen_loss: 0.5583617687225342\n",
            "compute_gradients\n",
            "Epoch: 182 | disc_loss: -0.0850864052772522 | gen_loss: 0.5582607388496399\n",
            "compute_gradients\n",
            "Epoch: 183 | disc_loss: -0.0827292948961258 | gen_loss: 0.560318112373352\n",
            "compute_gradients\n",
            "Epoch: 184 | disc_loss: -0.08631095290184021 | gen_loss: 0.5576724410057068\n",
            "compute_gradients\n",
            "Epoch: 185 | disc_loss: -0.09587569534778595 | gen_loss: 0.5595219731330872\n",
            "compute_gradients\n",
            "Epoch: 186 | disc_loss: -0.09327884018421173 | gen_loss: 0.5588732361793518\n",
            "compute_gradients\n",
            "Epoch: 187 | disc_loss: -0.08797502517700195 | gen_loss: 0.5594120025634766\n",
            "compute_gradients\n",
            "Epoch: 188 | disc_loss: -0.09345611184835434 | gen_loss: 0.5600241422653198\n",
            "compute_gradients\n",
            "Epoch: 189 | disc_loss: -0.06945783644914627 | gen_loss: 0.5594721436500549\n",
            "compute_gradients\n",
            "Epoch: 190 | disc_loss: -0.08064965903759003 | gen_loss: 0.5602333545684814\n",
            "compute_gradients\n",
            "Epoch: 191 | disc_loss: -0.08237439393997192 | gen_loss: 0.5621135830879211\n",
            "compute_gradients\n",
            "Epoch: 192 | disc_loss: -0.08749522268772125 | gen_loss: 0.560920774936676\n",
            "compute_gradients\n",
            "Epoch: 193 | disc_loss: -0.09119177609682083 | gen_loss: 0.5598544478416443\n",
            "compute_gradients\n",
            "Epoch: 194 | disc_loss: -0.08984899520874023 | gen_loss: 0.5597602725028992\n",
            "compute_gradients\n",
            "Epoch: 195 | disc_loss: -0.08197805285453796 | gen_loss: 0.5598576664924622\n",
            "compute_gradients\n",
            "Epoch: 196 | disc_loss: -0.09743944555521011 | gen_loss: 0.5603020787239075\n",
            "compute_gradients\n",
            "Epoch: 197 | disc_loss: -0.0913899838924408 | gen_loss: 0.5581236481666565\n",
            "compute_gradients\n",
            "Epoch: 198 | disc_loss: -0.08481525629758835 | gen_loss: 0.5596500635147095\n",
            "compute_gradients\n",
            "Epoch: 199 | disc_loss: -0.0881897509098053 | gen_loss: 0.5590097308158875\n",
            "compute_gradients\n",
            "Epoch: 200 | disc_loss: -0.08489736914634705 | gen_loss: 0.5604187250137329\n",
            "compute_gradients\n",
            "Epoch: 201 | disc_loss: -0.08183308690786362 | gen_loss: 0.5598558783531189\n",
            "compute_gradients\n",
            "Epoch: 202 | disc_loss: -0.0880732610821724 | gen_loss: 0.5603241920471191\n",
            "compute_gradients\n",
            "Epoch: 203 | disc_loss: -0.09311412274837494 | gen_loss: 0.5615561008453369\n",
            "compute_gradients\n",
            "Epoch: 204 | disc_loss: -0.08773032575845718 | gen_loss: 0.5615866184234619\n",
            "compute_gradients\n",
            "Epoch: 205 | disc_loss: -0.08070538192987442 | gen_loss: 0.560046911239624\n",
            "compute_gradients\n",
            "Epoch: 206 | disc_loss: -0.09301278740167618 | gen_loss: 0.5606322884559631\n",
            "compute_gradients\n",
            "Epoch: 207 | disc_loss: -0.08767984062433243 | gen_loss: 0.5581704378128052\n",
            "compute_gradients\n",
            "Epoch: 208 | disc_loss: -0.08628720045089722 | gen_loss: 0.5608305335044861\n",
            "compute_gradients\n",
            "Epoch: 209 | disc_loss: -0.07676881551742554 | gen_loss: 0.5611624121665955\n",
            "compute_gradients\n",
            "Epoch: 210 | disc_loss: -0.08962535858154297 | gen_loss: 0.5607993602752686\n",
            "compute_gradients\n",
            "Epoch: 211 | disc_loss: -0.09191964566707611 | gen_loss: 0.5596597790718079\n",
            "compute_gradients\n",
            "Epoch: 212 | disc_loss: -0.08459917455911636 | gen_loss: 0.5597341656684875\n",
            "compute_gradients\n",
            "Epoch: 213 | disc_loss: -0.08223430067300797 | gen_loss: 0.5605623722076416\n",
            "compute_gradients\n",
            "Epoch: 214 | disc_loss: -0.08741903305053711 | gen_loss: 0.5627750754356384\n",
            "compute_gradients\n",
            "Epoch: 215 | disc_loss: -0.08614429831504822 | gen_loss: 0.5618510246276855\n",
            "compute_gradients\n",
            "Epoch: 216 | disc_loss: -0.07921001315116882 | gen_loss: 0.5635100603103638\n",
            "compute_gradients\n",
            "Epoch: 217 | disc_loss: -0.09219779074192047 | gen_loss: 0.56313157081604\n",
            "compute_gradients\n",
            "Epoch: 218 | disc_loss: -0.08063190430402756 | gen_loss: 0.5600265264511108\n",
            "compute_gradients\n",
            "Epoch: 219 | disc_loss: -0.08085519820451736 | gen_loss: 0.5624545216560364\n",
            "compute_gradients\n",
            "Epoch: 220 | disc_loss: -0.08329587429761887 | gen_loss: 0.561923623085022\n",
            "compute_gradients\n",
            "Epoch: 221 | disc_loss: -0.08002372831106186 | gen_loss: 0.5622419118881226\n",
            "compute_gradients\n",
            "Epoch: 222 | disc_loss: -0.08440668135881424 | gen_loss: 0.5645925998687744\n",
            "compute_gradients\n",
            "Epoch: 223 | disc_loss: -0.08989492058753967 | gen_loss: 0.5628429651260376\n",
            "compute_gradients\n",
            "Epoch: 224 | disc_loss: -0.07151453197002411 | gen_loss: 0.5628061294555664\n",
            "compute_gradients\n",
            "Epoch: 225 | disc_loss: -0.0724957287311554 | gen_loss: 0.5632174015045166\n",
            "compute_gradients\n",
            "Epoch: 226 | disc_loss: -0.08865457028150558 | gen_loss: 0.5620582699775696\n",
            "compute_gradients\n",
            "Epoch: 227 | disc_loss: -0.06992711126804352 | gen_loss: 0.5652763247489929\n",
            "compute_gradients\n",
            "Epoch: 228 | disc_loss: -0.07415883243083954 | gen_loss: 0.5634423494338989\n",
            "compute_gradients\n",
            "Epoch: 229 | disc_loss: -0.08837463706731796 | gen_loss: 0.5653541088104248\n",
            "compute_gradients\n",
            "Epoch: 230 | disc_loss: -0.08339184522628784 | gen_loss: 0.5641524791717529\n",
            "compute_gradients\n",
            "Epoch: 231 | disc_loss: -0.08950591087341309 | gen_loss: 0.5645477771759033\n",
            "compute_gradients\n",
            "Epoch: 232 | disc_loss: -0.09395755082368851 | gen_loss: 0.5653120279312134\n",
            "compute_gradients\n",
            "Epoch: 233 | disc_loss: -0.08875378966331482 | gen_loss: 0.563483715057373\n",
            "compute_gradients\n",
            "Epoch: 234 | disc_loss: -0.09451808780431747 | gen_loss: 0.563880980014801\n",
            "compute_gradients\n",
            "Epoch: 235 | disc_loss: -0.09256914258003235 | gen_loss: 0.5640770196914673\n",
            "compute_gradients\n",
            "Epoch: 236 | disc_loss: -0.07886167615652084 | gen_loss: 0.5628737211227417\n",
            "compute_gradients\n",
            "Epoch: 237 | disc_loss: -0.06483762711286545 | gen_loss: 0.563600480556488\n",
            "compute_gradients\n",
            "Epoch: 238 | disc_loss: -0.10328890383243561 | gen_loss: 0.5638500452041626\n",
            "compute_gradients\n",
            "Epoch: 239 | disc_loss: -0.0657268688082695 | gen_loss: 0.5640477538108826\n",
            "compute_gradients\n",
            "Epoch: 240 | disc_loss: -0.06356337666511536 | gen_loss: 0.5665480494499207\n",
            "compute_gradients\n",
            "Epoch: 241 | disc_loss: -0.07892907410860062 | gen_loss: 0.5669885873794556\n",
            "compute_gradients\n",
            "Epoch: 242 | disc_loss: -0.08597013354301453 | gen_loss: 0.5664408206939697\n",
            "compute_gradients\n",
            "Epoch: 243 | disc_loss: -0.07611919939517975 | gen_loss: 0.5645409226417542\n",
            "compute_gradients\n",
            "Epoch: 244 | disc_loss: -0.07622022181749344 | gen_loss: 0.5669080018997192\n",
            "compute_gradients\n",
            "Epoch: 245 | disc_loss: -0.0798778235912323 | gen_loss: 0.564595103263855\n",
            "compute_gradients\n",
            "Epoch: 246 | disc_loss: -0.08208561688661575 | gen_loss: 0.5646932125091553\n",
            "compute_gradients\n",
            "Epoch: 247 | disc_loss: -0.08206365257501602 | gen_loss: 0.5657165050506592\n",
            "compute_gradients\n",
            "Epoch: 248 | disc_loss: -0.08512657880783081 | gen_loss: 0.5647597312927246\n",
            "compute_gradients\n",
            "Epoch: 249 | disc_loss: -0.08132784813642502 | gen_loss: 0.5645524859428406\n",
            "compute_gradients\n",
            "Epoch: 250 | disc_loss: -0.06657258421182632 | gen_loss: 0.5667842626571655\n",
            "compute_gradients\n",
            "Epoch: 251 | disc_loss: -0.08793515712022781 | gen_loss: 0.5664931535720825\n",
            "compute_gradients\n",
            "Epoch: 252 | disc_loss: -0.08630689233541489 | gen_loss: 0.5672751069068909\n",
            "compute_gradients\n",
            "Epoch: 253 | disc_loss: -0.08639054000377655 | gen_loss: 0.5652714371681213\n",
            "compute_gradients\n",
            "Epoch: 254 | disc_loss: -0.06464007496833801 | gen_loss: 0.5670271515846252\n",
            "compute_gradients\n",
            "Epoch: 255 | disc_loss: -0.06505435705184937 | gen_loss: 0.5666444301605225\n",
            "compute_gradients\n",
            "Epoch: 256 | disc_loss: -0.08216382563114166 | gen_loss: 0.5668783783912659\n",
            "compute_gradients\n",
            "Epoch: 257 | disc_loss: -0.07435397058725357 | gen_loss: 0.5663040280342102\n",
            "compute_gradients\n",
            "Epoch: 258 | disc_loss: -0.08946914225816727 | gen_loss: 0.5686696171760559\n",
            "compute_gradients\n",
            "Epoch: 259 | disc_loss: -0.08200062066316605 | gen_loss: 0.5662411451339722\n",
            "compute_gradients\n",
            "Epoch: 260 | disc_loss: -0.08046203851699829 | gen_loss: 0.5684361457824707\n",
            "compute_gradients\n",
            "Epoch: 261 | disc_loss: -0.074526846408844 | gen_loss: 0.5665249824523926\n",
            "compute_gradients\n",
            "Epoch: 262 | disc_loss: -0.0874403640627861 | gen_loss: 0.5672862529754639\n",
            "compute_gradients\n",
            "Epoch: 263 | disc_loss: -0.07328933477401733 | gen_loss: 0.5679051280021667\n",
            "compute_gradients\n",
            "Epoch: 264 | disc_loss: -0.08942347764968872 | gen_loss: 0.5696027278900146\n",
            "compute_gradients\n",
            "Epoch: 265 | disc_loss: -0.09001407027244568 | gen_loss: 0.5669803023338318\n",
            "compute_gradients\n",
            "Epoch: 266 | disc_loss: -0.0680847316980362 | gen_loss: 0.5680819153785706\n",
            "compute_gradients\n",
            "Epoch: 267 | disc_loss: -0.08128514140844345 | gen_loss: 0.5676330327987671\n",
            "compute_gradients\n",
            "Epoch: 268 | disc_loss: -0.0729580670595169 | gen_loss: 0.5668997764587402\n",
            "compute_gradients\n",
            "Epoch: 269 | disc_loss: -0.06694232672452927 | gen_loss: 0.5688887238502502\n",
            "compute_gradients\n",
            "Epoch: 270 | disc_loss: -0.08411531150341034 | gen_loss: 0.5683459639549255\n",
            "compute_gradients\n",
            "Epoch: 271 | disc_loss: -0.07838283479213715 | gen_loss: 0.568783700466156\n",
            "compute_gradients\n",
            "Epoch: 272 | disc_loss: -0.08188895881175995 | gen_loss: 0.5697618126869202\n",
            "compute_gradients\n",
            "Epoch: 273 | disc_loss: -0.08008385449647903 | gen_loss: 0.5697627067565918\n",
            "compute_gradients\n",
            "Epoch: 274 | disc_loss: -0.0839921310544014 | gen_loss: 0.5674617886543274\n",
            "compute_gradients\n",
            "Epoch: 275 | disc_loss: -0.07120843231678009 | gen_loss: 0.56975919008255\n",
            "compute_gradients\n",
            "Epoch: 276 | disc_loss: -0.09149769693613052 | gen_loss: 0.5699113607406616\n",
            "compute_gradients\n",
            "Epoch: 277 | disc_loss: -0.06427927315235138 | gen_loss: 0.5696528553962708\n",
            "compute_gradients\n",
            "Epoch: 278 | disc_loss: -0.0868397206068039 | gen_loss: 0.5695686340332031\n",
            "compute_gradients\n",
            "Epoch: 279 | disc_loss: -0.07846793532371521 | gen_loss: 0.5706793069839478\n",
            "compute_gradients\n",
            "Epoch: 280 | disc_loss: -0.09016498923301697 | gen_loss: 0.5722960829734802\n",
            "compute_gradients\n",
            "Epoch: 281 | disc_loss: -0.0853961929678917 | gen_loss: 0.5690981149673462\n",
            "compute_gradients\n",
            "Epoch: 282 | disc_loss: -0.06861700862646103 | gen_loss: 0.5703248381614685\n",
            "compute_gradients\n",
            "Epoch: 283 | disc_loss: -0.07578794658184052 | gen_loss: 0.5715804696083069\n",
            "compute_gradients\n",
            "Epoch: 284 | disc_loss: -0.06509783118963242 | gen_loss: 0.5699210166931152\n",
            "compute_gradients\n",
            "Epoch: 285 | disc_loss: -0.07833027839660645 | gen_loss: 0.5717215538024902\n",
            "compute_gradients\n",
            "Epoch: 286 | disc_loss: -0.06506141275167465 | gen_loss: 0.5692179203033447\n",
            "compute_gradients\n",
            "Epoch: 287 | disc_loss: -0.06860571354627609 | gen_loss: 0.5701276659965515\n",
            "compute_gradients\n",
            "Epoch: 288 | disc_loss: -0.08031948655843735 | gen_loss: 0.5705531239509583\n",
            "compute_gradients\n",
            "Epoch: 289 | disc_loss: -0.08121068775653839 | gen_loss: 0.5726309418678284\n",
            "compute_gradients\n",
            "Epoch: 290 | disc_loss: -0.08588550239801407 | gen_loss: 0.570330798625946\n",
            "compute_gradients\n",
            "Epoch: 291 | disc_loss: -0.08560456335544586 | gen_loss: 0.5728715658187866\n",
            "compute_gradients\n",
            "Epoch: 292 | disc_loss: -0.06390367448329926 | gen_loss: 0.5699191093444824\n",
            "compute_gradients\n",
            "Epoch: 293 | disc_loss: -0.07850158214569092 | gen_loss: 0.5708580613136292\n",
            "compute_gradients\n",
            "Epoch: 294 | disc_loss: -0.09247475862503052 | gen_loss: 0.5701140761375427\n",
            "compute_gradients\n",
            "Epoch: 295 | disc_loss: -0.06023545563220978 | gen_loss: 0.57231205701828\n",
            "compute_gradients\n",
            "Epoch: 296 | disc_loss: -0.07551409304141998 | gen_loss: 0.5703790783882141\n",
            "compute_gradients\n",
            "Epoch: 297 | disc_loss: -0.07456009835004807 | gen_loss: 0.5725979804992676\n",
            "compute_gradients\n",
            "Epoch: 298 | disc_loss: -0.08468103408813477 | gen_loss: 0.5722423791885376\n",
            "compute_gradients\n",
            "Epoch: 299 | disc_loss: -0.09128278493881226 | gen_loss: 0.5718849301338196\n",
            "compute_gradients\n",
            "Epoch: 300 | disc_loss: -0.0643501803278923 | gen_loss: 0.5704966187477112\n",
            "compute_gradients\n",
            "Epoch: 301 | disc_loss: -0.05908556655049324 | gen_loss: 0.5709508061408997\n",
            "compute_gradients\n",
            "Epoch: 302 | disc_loss: -0.0816245749592781 | gen_loss: 0.5716516375541687\n",
            "compute_gradients\n",
            "Epoch: 303 | disc_loss: -0.08044657111167908 | gen_loss: 0.5730103254318237\n",
            "compute_gradients\n",
            "Epoch: 304 | disc_loss: -0.04608561098575592 | gen_loss: 0.5725988149642944\n",
            "compute_gradients\n",
            "Epoch: 305 | disc_loss: -0.07814306020736694 | gen_loss: 0.571992039680481\n",
            "compute_gradients\n",
            "Epoch: 306 | disc_loss: -0.07752539962530136 | gen_loss: 0.5736860036849976\n",
            "compute_gradients\n",
            "Epoch: 307 | disc_loss: -0.07889315485954285 | gen_loss: 0.5758654475212097\n",
            "compute_gradients\n",
            "Epoch: 308 | disc_loss: -0.0870678573846817 | gen_loss: 0.5733724236488342\n",
            "compute_gradients\n",
            "Epoch: 309 | disc_loss: -0.06456010043621063 | gen_loss: 0.5725465416908264\n",
            "compute_gradients\n",
            "Epoch: 310 | disc_loss: -0.07206065952777863 | gen_loss: 0.5739410519599915\n",
            "compute_gradients\n",
            "Epoch: 311 | disc_loss: -0.08441776037216187 | gen_loss: 0.5750256180763245\n",
            "compute_gradients\n",
            "Epoch: 312 | disc_loss: -0.059923917055130005 | gen_loss: 0.576566219329834\n",
            "compute_gradients\n",
            "Epoch: 313 | disc_loss: -0.06963986158370972 | gen_loss: 0.5724939107894897\n",
            "compute_gradients\n",
            "Epoch: 314 | disc_loss: 0.0015151724219322205 | gen_loss: 0.5750935673713684\n",
            "compute_gradients\n",
            "Epoch: 315 | disc_loss: -0.07039132714271545 | gen_loss: 0.5752792954444885\n",
            "compute_gradients\n",
            "Epoch: 316 | disc_loss: -0.07280483096837997 | gen_loss: 0.5728052854537964\n",
            "compute_gradients\n",
            "Epoch: 317 | disc_loss: -0.0820077583193779 | gen_loss: 0.5745421648025513\n",
            "compute_gradients\n",
            "Epoch: 318 | disc_loss: -0.07695857435464859 | gen_loss: 0.573809802532196\n",
            "compute_gradients\n",
            "Epoch: 319 | disc_loss: -0.07431015372276306 | gen_loss: 0.5755020976066589\n",
            "compute_gradients\n",
            "Epoch: 320 | disc_loss: -0.08616245537996292 | gen_loss: 0.576426088809967\n",
            "compute_gradients\n",
            "Epoch: 321 | disc_loss: -0.07527290284633636 | gen_loss: 0.5745002627372742\n",
            "compute_gradients\n",
            "Epoch: 322 | disc_loss: -0.05676102638244629 | gen_loss: 0.575396716594696\n",
            "compute_gradients\n",
            "Epoch: 323 | disc_loss: -0.08696965873241425 | gen_loss: 0.5763152837753296\n",
            "compute_gradients\n",
            "Epoch: 324 | disc_loss: -0.07149744778871536 | gen_loss: 0.5729587078094482\n",
            "compute_gradients\n",
            "Epoch: 325 | disc_loss: -0.075110524892807 | gen_loss: 0.5777987837791443\n",
            "compute_gradients\n",
            "Epoch: 326 | disc_loss: -0.06773802638053894 | gen_loss: 0.575959324836731\n",
            "compute_gradients\n",
            "Epoch: 327 | disc_loss: -0.06437170505523682 | gen_loss: 0.5763697624206543\n",
            "compute_gradients\n",
            "Epoch: 328 | disc_loss: -0.08528325706720352 | gen_loss: 0.5777872800827026\n",
            "compute_gradients\n",
            "Epoch: 329 | disc_loss: -0.05711192265152931 | gen_loss: 0.5752652883529663\n",
            "compute_gradients\n",
            "Epoch: 330 | disc_loss: -0.07342707365751266 | gen_loss: 0.575164794921875\n",
            "compute_gradients\n",
            "Epoch: 331 | disc_loss: -0.08631296455860138 | gen_loss: 0.5781559348106384\n",
            "compute_gradients\n",
            "Epoch: 332 | disc_loss: -0.05530690401792526 | gen_loss: 0.5789492726325989\n",
            "compute_gradients\n",
            "Epoch: 333 | disc_loss: -0.06477927416563034 | gen_loss: 0.5764185190200806\n",
            "compute_gradients\n",
            "Epoch: 334 | disc_loss: -0.07905692607164383 | gen_loss: 0.5790690779685974\n",
            "compute_gradients\n",
            "Epoch: 335 | disc_loss: -0.0850788950920105 | gen_loss: 0.57682204246521\n",
            "compute_gradients\n",
            "Epoch: 336 | disc_loss: -0.07973992079496384 | gen_loss: 0.5795093774795532\n",
            "compute_gradients\n",
            "Epoch: 337 | disc_loss: -0.029847610741853714 | gen_loss: 0.5786850452423096\n",
            "compute_gradients\n",
            "Epoch: 338 | disc_loss: -0.08190436661243439 | gen_loss: 0.5791871547698975\n",
            "compute_gradients\n",
            "Epoch: 339 | disc_loss: -0.07326363027095795 | gen_loss: 0.5782988667488098\n",
            "compute_gradients\n",
            "Epoch: 340 | disc_loss: -0.08699880540370941 | gen_loss: 0.5787859559059143\n",
            "compute_gradients\n",
            "Epoch: 341 | disc_loss: -0.06934216618537903 | gen_loss: 0.5782869458198547\n",
            "compute_gradients\n",
            "Epoch: 342 | disc_loss: -0.052783507853746414 | gen_loss: 0.5777549147605896\n",
            "compute_gradients\n",
            "Epoch: 343 | disc_loss: -0.07720301300287247 | gen_loss: 0.5789989829063416\n",
            "compute_gradients\n",
            "Epoch: 344 | disc_loss: -0.040397100150585175 | gen_loss: 0.577142596244812\n",
            "compute_gradients\n",
            "Epoch: 345 | disc_loss: -0.07906942814588547 | gen_loss: 0.578683614730835\n",
            "compute_gradients\n",
            "Epoch: 346 | disc_loss: -0.08086986839771271 | gen_loss: 0.580873966217041\n",
            "compute_gradients\n",
            "Epoch: 347 | disc_loss: -0.06978141516447067 | gen_loss: 0.5786181092262268\n",
            "compute_gradients\n",
            "Epoch: 348 | disc_loss: -0.08101484179496765 | gen_loss: 0.5793004631996155\n",
            "compute_gradients\n",
            "Epoch: 349 | disc_loss: -0.06391660869121552 | gen_loss: 0.5782073736190796\n",
            "compute_gradients\n",
            "Epoch: 350 | disc_loss: -0.08399714529514313 | gen_loss: 0.580167293548584\n",
            "compute_gradients\n",
            "Epoch: 351 | disc_loss: -0.06858867406845093 | gen_loss: 0.5807594060897827\n",
            "compute_gradients\n",
            "Epoch: 352 | disc_loss: -0.07775678485631943 | gen_loss: 0.5794626474380493\n",
            "compute_gradients\n",
            "Epoch: 353 | disc_loss: -0.07916736602783203 | gen_loss: 0.5796682834625244\n",
            "compute_gradients\n",
            "Epoch: 354 | disc_loss: -0.06313780695199966 | gen_loss: 0.5789358615875244\n",
            "compute_gradients\n",
            "Epoch: 355 | disc_loss: -0.060057416558265686 | gen_loss: 0.5777850151062012\n",
            "compute_gradients\n",
            "Epoch: 356 | disc_loss: -0.0678609311580658 | gen_loss: 0.5814802646636963\n",
            "compute_gradients\n",
            "Epoch: 357 | disc_loss: -0.07663202285766602 | gen_loss: 0.5820288062095642\n",
            "compute_gradients\n",
            "Epoch: 358 | disc_loss: -0.03580380231142044 | gen_loss: 0.5806231498718262\n",
            "compute_gradients\n",
            "Epoch: 359 | disc_loss: -0.08078472316265106 | gen_loss: 0.5814935564994812\n",
            "compute_gradients\n",
            "Epoch: 360 | disc_loss: -0.07459103316068649 | gen_loss: 0.5813265442848206\n",
            "compute_gradients\n",
            "Epoch: 361 | disc_loss: -0.06925302743911743 | gen_loss: 0.5797511339187622\n",
            "compute_gradients\n",
            "Epoch: 362 | disc_loss: -0.06841731071472168 | gen_loss: 0.5831798315048218\n",
            "compute_gradients\n",
            "Epoch: 363 | disc_loss: -0.07139664888381958 | gen_loss: 0.5845074653625488\n",
            "compute_gradients\n",
            "Epoch: 364 | disc_loss: -0.07903027534484863 | gen_loss: 0.5820955634117126\n",
            "compute_gradients\n",
            "Epoch: 365 | disc_loss: -0.06784339249134064 | gen_loss: 0.578657329082489\n",
            "compute_gradients\n",
            "Epoch: 366 | disc_loss: -0.06599149852991104 | gen_loss: 0.580457329750061\n",
            "compute_gradients\n",
            "Epoch: 367 | disc_loss: -0.07819238305091858 | gen_loss: 0.584205687046051\n",
            "compute_gradients\n",
            "Epoch: 368 | disc_loss: -0.08936849236488342 | gen_loss: 0.5825462341308594\n",
            "compute_gradients\n",
            "Epoch: 369 | disc_loss: -0.0756300836801529 | gen_loss: 0.5809499025344849\n",
            "compute_gradients\n",
            "Epoch: 370 | disc_loss: -0.03891061246395111 | gen_loss: 0.5794849991798401\n",
            "compute_gradients\n",
            "Epoch: 371 | disc_loss: -0.06640508770942688 | gen_loss: 0.5806081295013428\n",
            "compute_gradients\n",
            "Epoch: 372 | disc_loss: -0.07044914364814758 | gen_loss: 0.5824544429779053\n",
            "compute_gradients\n",
            "Epoch: 373 | disc_loss: -0.023740947246551514 | gen_loss: 0.5805109143257141\n",
            "compute_gradients\n",
            "Epoch: 374 | disc_loss: -0.07493814826011658 | gen_loss: 0.5816657543182373\n",
            "compute_gradients\n",
            "Epoch: 375 | disc_loss: -0.07789190858602524 | gen_loss: 0.582323431968689\n",
            "compute_gradients\n",
            "Epoch: 376 | disc_loss: -0.07244189083576202 | gen_loss: 0.5808143615722656\n",
            "compute_gradients\n",
            "Epoch: 377 | disc_loss: -0.07118462771177292 | gen_loss: 0.583173930644989\n",
            "compute_gradients\n",
            "Epoch: 378 | disc_loss: -0.08116143941879272 | gen_loss: 0.5814052820205688\n",
            "compute_gradients\n",
            "Epoch: 379 | disc_loss: -0.07389435172080994 | gen_loss: 0.5813013911247253\n",
            "compute_gradients\n",
            "Epoch: 380 | disc_loss: -0.07363627105951309 | gen_loss: 0.5835363864898682\n",
            "compute_gradients\n",
            "Epoch: 381 | disc_loss: -0.06752298772335052 | gen_loss: 0.581691324710846\n",
            "compute_gradients\n",
            "Epoch: 382 | disc_loss: -0.08080019801855087 | gen_loss: 0.5833637118339539\n",
            "compute_gradients\n",
            "Epoch: 383 | disc_loss: -0.06958790123462677 | gen_loss: 0.5825710892677307\n",
            "compute_gradients\n",
            "Epoch: 384 | disc_loss: -0.07556632906198502 | gen_loss: 0.5815485119819641\n",
            "compute_gradients\n",
            "Epoch: 385 | disc_loss: -0.051967691630125046 | gen_loss: 0.5831180810928345\n",
            "compute_gradients\n",
            "Epoch: 386 | disc_loss: -0.05038522183895111 | gen_loss: 0.5810954570770264\n",
            "compute_gradients\n",
            "Epoch: 387 | disc_loss: -0.07007312029600143 | gen_loss: 0.5838325619697571\n",
            "compute_gradients\n",
            "Epoch: 388 | disc_loss: -0.06512495875358582 | gen_loss: 0.5829266905784607\n",
            "compute_gradients\n",
            "Epoch: 389 | disc_loss: -0.04511271417140961 | gen_loss: 0.5840969681739807\n",
            "compute_gradients\n",
            "Epoch: 390 | disc_loss: -0.07102172076702118 | gen_loss: 0.5851910710334778\n",
            "compute_gradients\n",
            "Epoch: 391 | disc_loss: -0.06014948710799217 | gen_loss: 0.5832710266113281\n",
            "compute_gradients\n",
            "Epoch: 392 | disc_loss: -0.07744166254997253 | gen_loss: 0.5841192603111267\n",
            "compute_gradients\n",
            "Epoch: 393 | disc_loss: -0.07496669888496399 | gen_loss: 0.5854257345199585\n",
            "compute_gradients\n",
            "Epoch: 394 | disc_loss: -0.07497313618659973 | gen_loss: 0.5861462354660034\n",
            "compute_gradients\n",
            "Epoch: 395 | disc_loss: -0.06578230857849121 | gen_loss: 0.5837910175323486\n",
            "compute_gradients\n",
            "Epoch: 396 | disc_loss: -0.05444253981113434 | gen_loss: 0.585654079914093\n",
            "compute_gradients\n",
            "Epoch: 397 | disc_loss: -0.07444719970226288 | gen_loss: 0.5869960784912109\n",
            "compute_gradients\n",
            "Epoch: 398 | disc_loss: -0.07521159946918488 | gen_loss: 0.5868696570396423\n",
            "compute_gradients\n",
            "Epoch: 399 | disc_loss: -0.06901396065950394 | gen_loss: 0.5868624448776245\n",
            "compute_gradients\n",
            "Epoch: 400 | disc_loss: -0.06747528910636902 | gen_loss: 0.5843036770820618\n",
            "compute_gradients\n",
            "Epoch: 401 | disc_loss: -0.07914431393146515 | gen_loss: 0.584099531173706\n",
            "compute_gradients\n",
            "Epoch: 402 | disc_loss: -0.07747897505760193 | gen_loss: 0.5837268233299255\n",
            "compute_gradients\n",
            "Epoch: 403 | disc_loss: -0.06278309226036072 | gen_loss: 0.584984302520752\n",
            "compute_gradients\n",
            "Epoch: 404 | disc_loss: -0.05337264761328697 | gen_loss: 0.5832605361938477\n",
            "compute_gradients\n",
            "Epoch: 405 | disc_loss: -0.04487625136971474 | gen_loss: 0.5885393023490906\n",
            "compute_gradients\n",
            "Epoch: 406 | disc_loss: -0.055804669857025146 | gen_loss: 0.5844292640686035\n",
            "compute_gradients\n",
            "Epoch: 407 | disc_loss: -0.08143267035484314 | gen_loss: 0.5871970653533936\n",
            "compute_gradients\n",
            "Epoch: 408 | disc_loss: -0.07519904524087906 | gen_loss: 0.5858002305030823\n",
            "compute_gradients\n",
            "Epoch: 409 | disc_loss: -0.06667838245630264 | gen_loss: 0.5867106914520264\n",
            "compute_gradients\n",
            "Epoch: 410 | disc_loss: -0.05705810338258743 | gen_loss: 0.5826119184494019\n",
            "compute_gradients\n",
            "Epoch: 411 | disc_loss: -0.06598013639450073 | gen_loss: 0.5826456546783447\n",
            "compute_gradients\n",
            "Epoch: 412 | disc_loss: -0.060890525579452515 | gen_loss: 0.5833271741867065\n",
            "compute_gradients\n",
            "Epoch: 413 | disc_loss: -0.05181325972080231 | gen_loss: 0.584604799747467\n",
            "compute_gradients\n",
            "Epoch: 414 | disc_loss: -0.06483805179595947 | gen_loss: 0.5876004695892334\n",
            "compute_gradients\n",
            "Epoch: 415 | disc_loss: -0.0714157372713089 | gen_loss: 0.585924506187439\n",
            "compute_gradients\n",
            "Epoch: 416 | disc_loss: -0.062489740550518036 | gen_loss: 0.5849859714508057\n",
            "compute_gradients\n",
            "Epoch: 417 | disc_loss: -0.07769838720560074 | gen_loss: 0.5866235494613647\n",
            "compute_gradients\n",
            "Epoch: 418 | disc_loss: -0.06155352666974068 | gen_loss: 0.5865116715431213\n",
            "compute_gradients\n",
            "Epoch: 419 | disc_loss: -0.06768245249986649 | gen_loss: 0.5877225399017334\n",
            "compute_gradients\n",
            "Epoch: 420 | disc_loss: -0.06815837323665619 | gen_loss: 0.5863350629806519\n",
            "compute_gradients\n",
            "Epoch: 421 | disc_loss: -0.0731215626001358 | gen_loss: 0.5870206952095032\n",
            "compute_gradients\n",
            "Epoch: 422 | disc_loss: -0.06335725635290146 | gen_loss: 0.5881422162055969\n",
            "compute_gradients\n",
            "Epoch: 423 | disc_loss: -0.05546169728040695 | gen_loss: 0.5914623737335205\n",
            "compute_gradients\n",
            "Epoch: 424 | disc_loss: -0.06729482114315033 | gen_loss: 0.5860676169395447\n",
            "compute_gradients\n",
            "Epoch: 425 | disc_loss: -0.08148028701543808 | gen_loss: 0.5876457691192627\n",
            "compute_gradients\n",
            "Epoch: 426 | disc_loss: -0.06660370528697968 | gen_loss: 0.5880897045135498\n",
            "compute_gradients\n",
            "Epoch: 427 | disc_loss: -0.043057218194007874 | gen_loss: 0.5899976491928101\n",
            "compute_gradients\n",
            "Epoch: 428 | disc_loss: -0.057772159576416016 | gen_loss: 0.5869503021240234\n",
            "compute_gradients\n",
            "Epoch: 429 | disc_loss: -0.07242327183485031 | gen_loss: 0.5873771905899048\n",
            "compute_gradients\n",
            "Epoch: 430 | disc_loss: -0.057575397193431854 | gen_loss: 0.5866574048995972\n",
            "compute_gradients\n",
            "Epoch: 431 | disc_loss: -0.02917763590812683 | gen_loss: 0.5882437229156494\n",
            "compute_gradients\n",
            "Epoch: 432 | disc_loss: -0.0706595927476883 | gen_loss: 0.5892303586006165\n",
            "compute_gradients\n",
            "Epoch: 433 | disc_loss: -0.07224395126104355 | gen_loss: 0.591407060623169\n",
            "compute_gradients\n",
            "Epoch: 434 | disc_loss: -0.06709019094705582 | gen_loss: 0.588793158531189\n",
            "compute_gradients\n",
            "Epoch: 435 | disc_loss: -0.06893408298492432 | gen_loss: 0.5887600779533386\n",
            "compute_gradients\n",
            "Epoch: 436 | disc_loss: -0.06472291052341461 | gen_loss: 0.5897597670555115\n",
            "compute_gradients\n",
            "Epoch: 437 | disc_loss: -0.07713217288255692 | gen_loss: 0.5894509553909302\n",
            "compute_gradients\n",
            "Epoch: 438 | disc_loss: -0.07093658298254013 | gen_loss: 0.587106466293335\n",
            "compute_gradients\n",
            "Epoch: 439 | disc_loss: -0.07716534286737442 | gen_loss: 0.5892001986503601\n",
            "compute_gradients\n",
            "Epoch: 440 | disc_loss: -0.04091788828372955 | gen_loss: 0.5909322500228882\n",
            "compute_gradients\n",
            "Epoch: 441 | disc_loss: -0.07348281890153885 | gen_loss: 0.5878233313560486\n",
            "compute_gradients\n",
            "Epoch: 442 | disc_loss: -0.06914396584033966 | gen_loss: 0.5888570547103882\n",
            "compute_gradients\n",
            "Epoch: 443 | disc_loss: -0.06525368988513947 | gen_loss: 0.5885236859321594\n",
            "compute_gradients\n",
            "Epoch: 444 | disc_loss: -0.07325979322195053 | gen_loss: 0.5889453887939453\n",
            "compute_gradients\n",
            "Epoch: 445 | disc_loss: -0.07195090502500534 | gen_loss: 0.5878850221633911\n",
            "compute_gradients\n",
            "Epoch: 446 | disc_loss: -0.072085902094841 | gen_loss: 0.5902875661849976\n",
            "compute_gradients\n",
            "Epoch: 447 | disc_loss: -0.02752842754125595 | gen_loss: 0.5910446643829346\n",
            "compute_gradients\n",
            "Epoch: 448 | disc_loss: -0.07836085557937622 | gen_loss: 0.5888097882270813\n",
            "compute_gradients\n",
            "Epoch: 449 | disc_loss: -0.06314712762832642 | gen_loss: 0.5892022252082825\n",
            "compute_gradients\n",
            "Epoch: 450 | disc_loss: -0.06353913992643356 | gen_loss: 0.5886553525924683\n",
            "compute_gradients\n",
            "Epoch: 451 | disc_loss: -0.07837313413619995 | gen_loss: 0.5889897346496582\n",
            "compute_gradients\n",
            "Epoch: 452 | disc_loss: -0.06674332171678543 | gen_loss: 0.5895334482192993\n",
            "compute_gradients\n",
            "Epoch: 453 | disc_loss: -0.003034427762031555 | gen_loss: 0.5918203592300415\n",
            "compute_gradients\n",
            "Epoch: 454 | disc_loss: -0.05075439065694809 | gen_loss: 0.5877479314804077\n",
            "compute_gradients\n",
            "Epoch: 455 | disc_loss: -0.06955066323280334 | gen_loss: 0.5899903178215027\n",
            "compute_gradients\n",
            "Epoch: 456 | disc_loss: -0.0680902972817421 | gen_loss: 0.5898572206497192\n",
            "compute_gradients\n",
            "Epoch: 457 | disc_loss: -0.06010378152132034 | gen_loss: 0.5876322984695435\n",
            "compute_gradients\n",
            "Epoch: 458 | disc_loss: -0.07624603807926178 | gen_loss: 0.5881134271621704\n",
            "compute_gradients\n",
            "Epoch: 459 | disc_loss: -0.05926740914583206 | gen_loss: 0.5888795256614685\n",
            "compute_gradients\n",
            "Epoch: 460 | disc_loss: -0.06317351013422012 | gen_loss: 0.5878883004188538\n",
            "compute_gradients\n",
            "Epoch: 461 | disc_loss: -0.08078987896442413 | gen_loss: 0.5885050296783447\n",
            "compute_gradients\n",
            "Epoch: 462 | disc_loss: -0.05325130373239517 | gen_loss: 0.5865902900695801\n",
            "compute_gradients\n",
            "Epoch: 463 | disc_loss: -0.06911899894475937 | gen_loss: 0.5880311727523804\n",
            "compute_gradients\n",
            "Epoch: 464 | disc_loss: -0.05478593707084656 | gen_loss: 0.5884696841239929\n",
            "compute_gradients\n",
            "Epoch: 465 | disc_loss: -0.0717158317565918 | gen_loss: 0.5920390486717224\n",
            "compute_gradients\n",
            "Epoch: 466 | disc_loss: 0.01245240867137909 | gen_loss: 0.5895800590515137\n",
            "compute_gradients\n",
            "Epoch: 467 | disc_loss: -0.06636879593133926 | gen_loss: 0.5896617770195007\n",
            "compute_gradients\n",
            "Epoch: 468 | disc_loss: -0.06838128715753555 | gen_loss: 0.5903481245040894\n",
            "compute_gradients\n",
            "Epoch: 469 | disc_loss: -0.0636909157037735 | gen_loss: 0.5883212685585022\n",
            "compute_gradients\n",
            "Epoch: 470 | disc_loss: -0.05946025997400284 | gen_loss: 0.5903452038764954\n",
            "compute_gradients\n",
            "Epoch: 471 | disc_loss: -0.07330945879220963 | gen_loss: 0.5911208987236023\n",
            "compute_gradients\n",
            "Epoch: 472 | disc_loss: -0.07021288573741913 | gen_loss: 0.59056556224823\n",
            "compute_gradients\n",
            "Epoch: 473 | disc_loss: -0.06215331703424454 | gen_loss: 0.590080738067627\n",
            "compute_gradients\n",
            "Epoch: 474 | disc_loss: -0.06457466632127762 | gen_loss: 0.5897350907325745\n",
            "compute_gradients\n",
            "Epoch: 475 | disc_loss: -0.05696801096200943 | gen_loss: 0.5879441499710083\n",
            "compute_gradients\n",
            "Epoch: 476 | disc_loss: -0.07555678486824036 | gen_loss: 0.5923929810523987\n",
            "compute_gradients\n",
            "Epoch: 477 | disc_loss: -0.06092505902051926 | gen_loss: 0.5882217288017273\n",
            "compute_gradients\n",
            "Epoch: 478 | disc_loss: -0.0528411827981472 | gen_loss: 0.5892505049705505\n",
            "compute_gradients\n",
            "Epoch: 479 | disc_loss: -0.0730070173740387 | gen_loss: 0.5880873203277588\n",
            "compute_gradients\n",
            "Epoch: 480 | disc_loss: -0.07072816789150238 | gen_loss: 0.5909841060638428\n",
            "compute_gradients\n",
            "Epoch: 481 | disc_loss: -0.05982065200805664 | gen_loss: 0.588782548904419\n",
            "compute_gradients\n",
            "Epoch: 482 | disc_loss: -0.06650755554437637 | gen_loss: 0.5892022848129272\n",
            "compute_gradients\n",
            "Epoch: 483 | disc_loss: -0.06996627151966095 | gen_loss: 0.5901896953582764\n",
            "compute_gradients\n",
            "Epoch: 484 | disc_loss: -0.05540285259485245 | gen_loss: 0.5881691575050354\n",
            "compute_gradients\n",
            "Epoch: 485 | disc_loss: -0.07053091377019882 | gen_loss: 0.5906916260719299\n",
            "compute_gradients\n",
            "Epoch: 486 | disc_loss: -0.0581623874604702 | gen_loss: 0.5901103019714355\n",
            "compute_gradients\n",
            "Epoch: 487 | disc_loss: -0.07920639961957932 | gen_loss: 0.5923112034797668\n",
            "compute_gradients\n",
            "Epoch: 488 | disc_loss: -0.04605097323656082 | gen_loss: 0.5885815620422363\n",
            "compute_gradients\n",
            "Epoch: 489 | disc_loss: -0.06825435161590576 | gen_loss: 0.5899485349655151\n",
            "compute_gradients\n",
            "Epoch: 490 | disc_loss: -0.07705916464328766 | gen_loss: 0.5900201797485352\n",
            "compute_gradients\n",
            "Epoch: 491 | disc_loss: -0.056384965777397156 | gen_loss: 0.5927053093910217\n",
            "compute_gradients\n",
            "Epoch: 492 | disc_loss: -0.07033094763755798 | gen_loss: 0.5903750658035278\n",
            "compute_gradients\n",
            "Epoch: 493 | disc_loss: -0.06241217628121376 | gen_loss: 0.5898082256317139\n",
            "compute_gradients\n",
            "Epoch: 494 | disc_loss: -0.0673721581697464 | gen_loss: 0.5904572010040283\n",
            "compute_gradients\n",
            "Epoch: 495 | disc_loss: -0.053757455199956894 | gen_loss: 0.5894162654876709\n",
            "compute_gradients\n",
            "Epoch: 496 | disc_loss: -0.06810816377401352 | gen_loss: 0.5909631252288818\n",
            "compute_gradients\n",
            "Epoch: 497 | disc_loss: -0.05258950591087341 | gen_loss: 0.5885577201843262\n",
            "compute_gradients\n",
            "Epoch: 498 | disc_loss: -0.06472368538379669 | gen_loss: 0.5919728875160217\n",
            "compute_gradients\n",
            "Epoch: 499 | disc_loss: -0.028196822851896286 | gen_loss: 0.5911015272140503\n"
          ],
          "name": "stdout"
        }
      ]
    },
    {
      "cell_type": "code",
      "metadata": {
        "ExecuteTime": {
          "end_time": "2019-05-14T06:46:24.425722Z",
          "start_time": "2019-05-14T06:46:24.188266Z"
        },
        "colab_type": "code",
        "id": "XZbwB70ESYcH",
        "colab": {
          "base_uri": "https://localhost:8080/",
          "height": 286
        },
        "outputId": "6f2e7f8d-ccca-4c4d-952b-1383ff1841ba"
      },
      "source": [
        "plt.plot(losses.gen_loss.values)\n"
      ],
      "execution_count": 19,
      "outputs": [
        {
          "output_type": "execute_result",
          "data": {
            "text/plain": [
              "[<matplotlib.lines.Line2D at 0x7f6b20f4d0f0>]"
            ]
          },
          "metadata": {
            "tags": []
          },
          "execution_count": 19
        },
        {
          "output_type": "display_data",
          "data": {
            "image/png": "[encoded data removed]",
            "text/plain": [
              "<Figure size 432x288 with 1 Axes>"
            ]
          },
          "metadata": {
            "tags": []
          }
        }
      ]
    },
    {
      "cell_type": "code",
      "metadata": {
        "ExecuteTime": {
          "end_time": "2019-05-14T06:46:38.649136Z",
          "start_time": "2019-05-14T06:46:38.440378Z"
        },
        "colab_type": "code",
        "id": "FydTnKDxSYcL",
        "colab": {
          "base_uri": "https://localhost:8080/",
          "height": 286
        },
        "outputId": "b6fb4667-d18c-42be-a003-a2fa486264ce"
      },
      "source": [
        "plt.plot(losses.disc_loss.values)\n"
      ],
      "execution_count": 20,
      "outputs": [
        {
          "output_type": "execute_result",
          "data": {
            "text/plain": [
              "[<matplotlib.lines.Line2D at 0x7f6b20a0a4a8>]"
            ]
          },
          "metadata": {
            "tags": []
          },
          "execution_count": 20
        },
        {
          "output_type": "display_data",
          "data": {
            "image/png": "[encoded data removed]",
            "text/plain": [
              "<Figure size 432x288 with 1 Axes>"
            ]
          },
          "metadata": {
            "tags": []
          }
        }
      ]
    },
    {
      "cell_type": "markdown",
      "metadata": {
        "id": "lcIzLZj5Seh9",
        "colab_type": "text"
      },
      "source": [
        "#### Encoder GAN Model"
      ]
    },
    {
      "cell_type": "code",
      "metadata": {
        "colab_type": "code",
        "id": "JPQP0vvCja5o",
        "colab": {
          "base_uri": "https://localhost:8080/",
          "height": 35
        },
        "outputId": "1b3af2c4-53d2-4d06-9bd1-1939d38b162b"
      },
      "source": [
        "x = tf.random.normal((batch_size,n),dtype=tf.dtypes.float32) \n",
        "x = x/tf.sqrt(2*tf.reduce_mean(tf.square(x)))\n",
        "epsilon = tf.random.uniform([x.shape[0], 1, 1, 1], 0.0, 1.0)\n",
        "print(epsilon.shape)"
      ],
      "execution_count": 21,
      "outputs": [
        {
          "output_type": "stream",
          "text": [
            "(100, 1, 1, 1)\n"
          ],
          "name": "stdout"
        }
      ]
    },
    {
      "cell_type": "markdown",
      "metadata": {
        "id": "3m0fQ6OXgPf1",
        "colab_type": "text"
      },
      "source": [
        "# GAN Training"
      ]
    },
    {
      "cell_type": "code",
      "metadata": {
        "id": "_4FU2Q7yh0OU",
        "colab_type": "code",
        "colab": {}
      },
      "source": [
        "def test_encoding(M=16, n=1):\n",
        "    inp = np.arange(0,M)\n",
        "    coding = gan_encoder.predict(inp)\n",
        "    fig = plt.figure(figsize=(4,4))\n",
        "    plt.plot(coding[:,0], coding[:, 1], \"b.\")\n",
        "    plt.xlabel(\"$x_1$\", fontsize=18)\n",
        "    plt.ylabel(\"$x_2$\", fontsize=18, rotation=0)\n",
        "    plt.grid(True)\n",
        "    plt.gca().set_ylim(-2, 2)\n",
        "    plt.gca().set_xlim(-2, 2)\n",
        "    plt.show()\n",
        "\n",
        "\n",
        "\n",
        "def Test_AE(data):\n",
        "    '''Calculate Bit Error for varying SNRs'''\n",
        "    snr_range = np.linspace(0, 15, 31)\n",
        "    bber_vec = [None] * len(snr_range)\n",
        "        \n",
        "    for db in range(len(snr_range)):           \n",
        "        noise_std = EbNo_to_noise(snr_range[db])\n",
        "        code_word = gan_encoder(data)\n",
        "        rcvd_word = real_channel(code_word,noise_std)\n",
        "        dcoded_msg = gan_decoder(rcvd_word)\n",
        "        bber_vec[db] = B_Ber_m(data, dcoded_msg)\n",
        "        if (db % 6 == 0) & (db > 0):\n",
        "            print(f'Progress: {db} of {30} parts')\n",
        "\n",
        "    return (snr_range, bber_vec)"
      ],
      "execution_count": 0,
      "outputs": []
    },
    {
      "cell_type": "markdown",
      "metadata": {
        "id": "6GW2opX7SwMo",
        "colab_type": "text"
      },
      "source": [
        "\n",
        "# AE training"
      ]
    },
    {
      "cell_type": "code",
      "metadata": {
        "id": "sNHtzAC4SPBq",
        "colab_type": "code",
        "colab": {}
      },
      "source": [
        "def get_gan_encoder(M):\n",
        "  model = keras.models.Sequential([\n",
        "            keras.layers.Embedding(M, M, embeddings_initializer='glorot_normal'),\n",
        "            keras.layers.Dense(M, activation=\"elu\"),\n",
        "            keras.layers.Dense(n, activation=None),\n",
        "            e2,\n",
        "            EncOut,\n",
        "            GenIn])\n",
        "  return model\n"
      ],
      "execution_count": 0,
      "outputs": []
    },
    {
      "cell_type": "code",
      "metadata": {
        "id": "C5KjEhDvSWQR",
        "colab_type": "code",
        "colab": {}
      },
      "source": [
        "def get_gan_decoder(M):\n",
        "   model= keras.models.Sequential([\n",
        "                #DecIn,\n",
        "                #d1,\n",
        "                keras.layers.Dense(M, activation=\"elu\"),\n",
        "                keras.layers.Dense(M, activation=\"softmax\")\n",
        "                ])\n",
        "   return model"
      ],
      "execution_count": 0,
      "outputs": []
    },
    {
      "cell_type": "code",
      "metadata": {
        "id": "PB4rw6Qhtdbe",
        "colab_type": "code",
        "colab": {}
      },
      "source": [
        "w_generator.trainable =False"
      ],
      "execution_count": 0,
      "outputs": []
    },
    {
      "cell_type": "code",
      "metadata": {
        "id": "FiuN3SZYpeTU",
        "colab_type": "code",
        "colab": {
          "base_uri": "https://localhost:8080/",
          "height": 482
        },
        "outputId": "b5bb2ca5-6a1e-4d3b-d552-9f6ea9fc2f88"
      },
      "source": [
        "#%%time\n",
        "gan_decoder = get_gan_decoder(M)\n",
        "gan_encoder = get_gan_encoder(M)\n",
        "\n",
        "gan_AE = tf.keras.models.Sequential([gan_encoder,w_generator,gan_decoder])\n",
        "data, test_data = random_sample(1000000), random_sample(1000)\n",
        "start = time.time()\n",
        "gan_AE.compile(optimizer=keras.optimizers.Nadam(lr=0.005),loss='sparse_categorical_crossentropy',metrics=['accuracy'])\n",
        "history = gan_AE.fit(data, data, batch_size=400,steps_per_epoch=200, epochs=6)\n",
        "#time_to_train_gan += time.time()-start\n",
        "#tf.print ('Time for the training is {} sec,'.format( time.time()-start))\n",
        "gan_AE.summary()  "
      ],
      "execution_count": 26,
      "outputs": [
        {
          "output_type": "stream",
          "text": [
            "Epoch 1/6\n",
            "200/200 [==============================] - 318s 2s/step - loss: 2.2247 - accuracy: 0.2422\n",
            "Epoch 2/6\n",
            "200/200 [==============================] - 317s 2s/step - loss: 1.6494 - accuracy: 0.4948\n",
            "Epoch 3/6\n",
            "200/200 [==============================] - 317s 2s/step - loss: 1.3536 - accuracy: 0.6408\n",
            "Epoch 4/6\n",
            "200/200 [==============================] - 317s 2s/step - loss: 1.1087 - accuracy: 0.7658\n",
            "Epoch 5/6\n",
            "200/200 [==============================] - 317s 2s/step - loss: 0.8200 - accuracy: 0.8445\n",
            "Epoch 6/6\n",
            "200/200 [==============================] - 316s 2s/step - loss: 0.5232 - accuracy: 0.9359\n",
            "Model: \"sequential_4\"\n",
            "_________________________________________________________________\n",
            "Layer (type)                 Output Shape              Param #   \n",
            "=================================================================\n",
            "sequential_3 (Sequential)    (None, None)              562       \n",
            "_________________________________________________________________\n",
            "sequential (Sequential)      (None, 2)                 1218      \n",
            "_________________________________________________________________\n",
            "sequential_2 (Sequential)    (None, 16)                320       \n",
            "=================================================================\n",
            "Total params: 2,100\n",
            "Trainable params: 882\n",
            "Non-trainable params: 1,218\n",
            "_________________________________________________________________\n"
          ],
          "name": "stdout"
        }
      ]
    },
    {
      "cell_type": "markdown",
      "metadata": {
        "id": "ngrucnfWBOHl",
        "colab_type": "text"
      },
      "source": [
        "### Training MI"
      ]
    },
    {
      "cell_type": "code",
      "metadata": {
        "id": "D5B2TUanPC5d",
        "colab_type": "code",
        "colab": {
          "base_uri": "https://localhost:8080/",
          "height": 295
        },
        "outputId": "1d074823-ec52-49ae-fd31-e8a20423d62c"
      },
      "source": [
        "gan_encoder.trainable = False\n",
        "gan_decoder.trainable = False\n",
        "\n",
        "test_encoding(M,n)   \n"
      ],
      "execution_count": 27,
      "outputs": [
        {
          "output_type": "display_data",
          "data": {
            "image/png": "[encoded data removed]",
            "text/plain": [
              "<Figure size 288x288 with 1 Axes>"
            ]
          },
          "metadata": {
            "tags": []
          }
        }
      ]
    },
    {
      "cell_type": "code",
      "metadata": {
        "id": "ukO76l6yIoPc",
        "colab_type": "code",
        "colab": {}
      },
      "source": [
        "# test msg sequence for normal encoding\n",
        "N_test = 500000\n",
        "test_msg = np.random.randint(M, size=N_test)"
      ],
      "execution_count": 0,
      "outputs": []
    },
    {
      "cell_type": "markdown",
      "metadata": {
        "id": "G5iCDE4dSL35",
        "colab_type": "text"
      },
      "source": [
        "#### decoder GAN Model"
      ]
    },
    {
      "cell_type": "code",
      "metadata": {
        "id": "7M-S0sbhIoPw",
        "colab_type": "code",
        "colab": {
          "base_uri": "https://localhost:8080/",
          "height": 106
        },
        "outputId": "f3cd1918-1261-4253-c90f-9d516ba1faf8"
      },
      "source": [
        "gan_bber_data = Test_AE(test_msg)"
      ],
      "execution_count": 29,
      "outputs": [
        {
          "output_type": "stream",
          "text": [
            "Progress: 6 of 30 parts\n",
            "Progress: 12 of 30 parts\n",
            "Progress: 18 of 30 parts\n",
            "Progress: 24 of 30 parts\n",
            "Progress: 30 of 30 parts\n"
          ],
          "name": "stdout"
        }
      ]
    },
    {
      "cell_type": "code",
      "metadata": {
        "id": "UYdEm0eQIoP2",
        "colab_type": "code",
        "colab": {
          "base_uri": "https://localhost:8080/",
          "height": 352
        },
        "outputId": "004fd159-e76c-41a7-de43-531bef382ebb"
      },
      "source": [
        "# Approximate 16 QAM Error\n",
        "def SIXT_QAM_sim(ebno):\n",
        "    return (3.0/2)*special.erfc(np.sqrt((4.0/10)*10.**(ebno/10)))\n",
        "\n",
        "ebnodbs = np.linspace(0,15,16)\n",
        "fig = plt.figure(figsize=(8, 5))\n",
        "plt.semilogy(gan_bber_data[0], gan_bber_data[1], '^-')\n",
        "plt.semilogy(ebnodbs, SIXT_QAM_sim(ebnodbs), '*-');\n",
        "plt.gca().set_ylim(1e-5, 1)\n",
        "plt.gca().set_xlim(0, 15)\n",
        "plt.ylabel(\"Batch Symbol Error Rate\", fontsize=14, rotation=90)\n",
        "plt.xlabel(\"SNR [dB]\", fontsize=18)\n",
        "plt.legend(['AE with WGAN', '16QAM'],\n",
        "           prop={'size': 14}, loc='upper right');\n",
        "plt.grid(True, which=\"both\")\n",
        "\n",
        "#print('time to train the AE Model with MI',time_to_train_mi)\n",
        "#print('time to train the AE Model with GAN',time_to_train_gan)"
      ],
      "execution_count": 30,
      "outputs": [
        {
          "output_type": "display_data",
          "data": {
            "image/png": "[encoded data removed]",
            "text/plain": [
              "<Figure size 576x360 with 1 Axes>"
            ]
          },
          "metadata": {
            "tags": []
          }
        }
      ]
    },
    {
      "cell_type": "code",
      "metadata": {
        "id": "bBes21qLlcS8",
        "colab_type": "code",
        "colab": {
          "base_uri": "https://localhost:8080/",
          "height": 35
        },
        "outputId": "f5fe4838-b9e9-4fef-c602-e77fc8188c6a"
      },
      "source": [
        "print(range(11))"
      ],
      "execution_count": 31,
      "outputs": [
        {
          "output_type": "stream",
          "text": [
            "range(0, 11)\n"
          ],
          "name": "stdout"
        }
      ]
    },
    {
      "cell_type": "code",
      "metadata": {
        "id": "PuvTdY-IfWvx",
        "colab_type": "code",
        "colab": {}
      },
      "source": [
        ""
      ],
      "execution_count": 0,
      "outputs": []
    }
  ]
}